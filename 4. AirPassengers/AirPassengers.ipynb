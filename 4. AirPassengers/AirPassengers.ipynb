{
 "cells": [
  {
   "cell_type": "code",
   "execution_count": 1,
   "metadata": {},
   "outputs": [],
   "source": [
    "import pandas as pd\n",
    "import numpy as np"
   ]
  },
  {
   "cell_type": "code",
   "execution_count": 2,
   "metadata": {},
   "outputs": [
    {
     "name": "stdout",
     "output_type": "stream",
     "text": [
      "     Month  #Passengers\n",
      "0  1949-01          112\n",
      "1  1949-02          118\n",
      "2  1949-03          132\n",
      "3  1949-04          129\n",
      "4  1949-05          121\n"
     ]
    }
   ],
   "source": [
    "data = pd.read_csv('AirPassengers.csv')\n",
    "print (data.head())"
   ]
  },
  {
   "cell_type": "code",
   "execution_count": 3,
   "metadata": {},
   "outputs": [
    {
     "name": "stdout",
     "output_type": "stream",
     "text": [
      "\n",
      " Data Types:\n",
      "Month          object\n",
      "#Passengers     int64\n",
      "dtype: object\n"
     ]
    }
   ],
   "source": [
    "print ('\\n Data Types:')\n",
    "print (data.dtypes)"
   ]
  },
  {
   "cell_type": "code",
   "execution_count": 4,
   "metadata": {},
   "outputs": [],
   "source": [
    "dateparse = lambda dates: pd.datetime.strptime(dates, '%Y-%m')"
   ]
  },
  {
   "cell_type": "code",
   "execution_count": 5,
   "metadata": {},
   "outputs": [
    {
     "name": "stderr",
     "output_type": "stream",
     "text": [
      "C:\\Users\\MAHENDER\\AppData\\Local\\Temp\\ipykernel_7272\\2674265005.py:1: FutureWarning: The pandas.datetime class is deprecated and will be removed from pandas in a future version. Import from datetime module instead.\n",
      "  dateparse = lambda dates: pd.datetime.strptime(dates, '%Y-%m')\n"
     ]
    }
   ],
   "source": [
    "data = pd.read_csv('AirPassengers.csv', parse_dates=['Month'], index_col='Month',date_parser=dateparse)"
   ]
  },
  {
   "cell_type": "code",
   "execution_count": 6,
   "metadata": {},
   "outputs": [
    {
     "name": "stdout",
     "output_type": "stream",
     "text": [
      "\n",
      " Parsed Data:\n",
      "            #Passengers\n",
      "Month                  \n",
      "1949-01-01          112\n",
      "1949-02-01          118\n",
      "1949-03-01          132\n",
      "1949-04-01          129\n",
      "1949-05-01          121\n"
     ]
    }
   ],
   "source": [
    "print ('\\n Parsed Data:')\n",
    "print (data.head())"
   ]
  },
  {
   "cell_type": "code",
   "execution_count": 6,
   "metadata": {},
   "outputs": [
    {
     "data": {
      "text/plain": [
       "DatetimeIndex(['1949-01-01', '1949-02-01', '1949-03-01', '1949-04-01',\n",
       "               '1949-05-01', '1949-06-01', '1949-07-01', '1949-08-01',\n",
       "               '1949-09-01', '1949-10-01',\n",
       "               ...\n",
       "               '1960-03-01', '1960-04-01', '1960-05-01', '1960-06-01',\n",
       "               '1960-07-01', '1960-08-01', '1960-09-01', '1960-10-01',\n",
       "               '1960-11-01', '1960-12-01'],\n",
       "              dtype='datetime64[ns]', name='Month', length=144, freq=None)"
      ]
     },
     "execution_count": 6,
     "metadata": {},
     "output_type": "execute_result"
    }
   ],
   "source": []
  },
  {
   "cell_type": "code",
   "execution_count": 7,
   "metadata": {},
   "outputs": [
    {
     "data": {
      "text/plain": [
       "Month\n",
       "1949-01-01    112\n",
       "1949-02-01    118\n",
       "1949-03-01    132\n",
       "1949-04-01    129\n",
       "1949-05-01    121\n",
       "1949-06-01    135\n",
       "1949-07-01    148\n",
       "1949-08-01    148\n",
       "1949-09-01    136\n",
       "1949-10-01    119\n",
       "Name: #Passengers, dtype: int64"
      ]
     },
     "execution_count": 7,
     "metadata": {},
     "output_type": "execute_result"
    }
   ],
   "source": []
  },
  {
   "cell_type": "code",
   "execution_count": 9,
   "metadata": {},
   "outputs": [],
   "source": []
  },
  {
   "cell_type": "code",
   "execution_count": 10,
   "metadata": {},
   "outputs": [],
   "source": []
  },
  {
   "cell_type": "code",
   "execution_count": 11,
   "metadata": {},
   "outputs": [
    {
     "data": {
      "text/plain": [
       "Month\n",
       "1949-01-01    112\n",
       "1949-02-01    118\n",
       "1949-03-01    132\n",
       "1949-04-01    129\n",
       "1949-05-01    121\n",
       "Name: #Passengers, dtype: int64"
      ]
     },
     "execution_count": 11,
     "metadata": {},
     "output_type": "execute_result"
    }
   ],
   "source": []
  },
  {
   "cell_type": "code",
   "execution_count": null,
   "metadata": {},
   "outputs": [],
   "source": []
  }
 ],
 "metadata": {
  "kernelspec": {
   "display_name": "Python [conda env:base] *",
   "language": "python",
   "name": "conda-base-py"
  },
  "language_info": {
   "codemirror_mode": {
    "name": "ipython",
    "version": 3
   },
   "file_extension": ".py",
   "mimetype": "text/x-python",
   "name": "python",
   "nbconvert_exporter": "python",
   "pygments_lexer": "ipython3",
   "version": "3.12.7"
  }
 },
 "nbformat": 4,
 "nbformat_minor": 4
}
