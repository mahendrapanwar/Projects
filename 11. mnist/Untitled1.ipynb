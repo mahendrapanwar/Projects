{
 "cells": [
  {
   "cell_type": "code",
   "execution_count": 1,
   "id": "4dc6c3ed",
   "metadata": {},
   "outputs": [
    {
     "name": "stderr",
     "output_type": "stream",
     "text": [
      "2024-04-25 13:14:57.959271: I tensorflow/core/platform/cpu_feature_guard.cc:182] This TensorFlow binary is optimized to use available CPU instructions in performance-critical operations.\n",
      "To enable the following instructions: SSE4.1 SSE4.2 AVX AVX2 AVX512F AVX512_VNNI FMA, in other operations, rebuild TensorFlow with the appropriate compiler flags.\n"
     ]
    }
   ],
   "source": [
    "import tensorflow as tf"
   ]
  },
  {
   "cell_type": "code",
   "execution_count": 2,
   "id": "32582de5",
   "metadata": {},
   "outputs": [],
   "source": [
    "from tensorflow import keras"
   ]
  },
  {
   "cell_type": "code",
   "execution_count": 3,
   "id": "06e94875",
   "metadata": {},
   "outputs": [],
   "source": [
    "fashion_mnist = keras.datasets.fashion_mnist\n",
    "(X_train_full, y_train_full), (X_test, y_test) =fashion_mnist.load_data()"
   ]
  },
  {
   "cell_type": "code",
   "execution_count": 4,
   "id": "0cd0a7d8",
   "metadata": {},
   "outputs": [],
   "source": [
    "X_valid, X_train = X_train_full[:5000] / 255.0, X_train_full[5000:] /255.0\n",
    "y_valid, y_train = y_train_full[:5000], y_train_full[5000:]"
   ]
  },
  {
   "cell_type": "code",
   "execution_count": 5,
   "id": "10fb9a3a",
   "metadata": {},
   "outputs": [],
   "source": [
    "class_names = [\"T-shirt/top\", \"Trouser\", \"Pullover\", \"Dress\", \"Coat\",\"Sandal\", \"Shirt\", \"Sneaker\", \"Bag\", \"Ankle boot\"]"
   ]
  },
  {
   "cell_type": "code",
   "execution_count": 6,
   "id": "0e029630",
   "metadata": {},
   "outputs": [
    {
     "name": "stderr",
     "output_type": "stream",
     "text": [
      "2024-04-25 13:18:13.274457: I tensorflow/core/common_runtime/process_util.cc:146] Creating new thread pool with default inter op setting: 2. Tune using inter_op_parallelism_threads for best performance.\n"
     ]
    }
   ],
   "source": [
    "model = keras.models.Sequential()\n",
    "model.add(keras.layers.Flatten(input_shape=[28, 28]))\n",
    "model.add(keras.layers.Dense(300, activation=\"relu\"))\n",
    "model.add(keras.layers.Dense(100, activation=\"relu\"))\n",
    "model.add(keras.layers.Dense(10, activation=\"softmax\"))"
   ]
  },
  {
   "cell_type": "code",
   "execution_count": 8,
   "id": "663a828f",
   "metadata": {},
   "outputs": [
    {
     "data": {
      "text/plain": [
       "[<keras.layers.reshaping.flatten.Flatten at 0x7042e8c93150>,\n",
       " <keras.layers.core.dense.Dense at 0x7042de891550>,\n",
       " <keras.layers.core.dense.Dense at 0x7042de83f050>,\n",
       " <keras.layers.core.dense.Dense at 0x7042de856fd0>]"
      ]
     },
     "execution_count": 8,
     "metadata": {},
     "output_type": "execute_result"
    }
   ],
   "source": [
    "model.layers"
   ]
  },
  {
   "cell_type": "code",
   "execution_count": 9,
   "id": "93e77087",
   "metadata": {},
   "outputs": [],
   "source": [
    "hidden1 = model.layers[1]"
   ]
  },
  {
   "cell_type": "code",
   "execution_count": 10,
   "id": "4397eea5",
   "metadata": {},
   "outputs": [
    {
     "data": {
      "text/plain": [
       "'dense'"
      ]
     },
     "execution_count": 10,
     "metadata": {},
     "output_type": "execute_result"
    }
   ],
   "source": [
    "hidden1.name"
   ]
  },
  {
   "cell_type": "code",
   "execution_count": 12,
   "id": "feebed1b",
   "metadata": {},
   "outputs": [
    {
     "data": {
      "text/plain": [
       "True"
      ]
     },
     "execution_count": 12,
     "metadata": {},
     "output_type": "execute_result"
    }
   ],
   "source": [
    "model.get_layer('dense') is hidden1"
   ]
  },
  {
   "cell_type": "code",
   "execution_count": 16,
   "id": "74acf667",
   "metadata": {},
   "outputs": [],
   "source": [
    "weights,biases=hidden1.get_weights()"
   ]
  },
  {
   "cell_type": "code",
   "execution_count": 17,
   "id": "aa6a2871",
   "metadata": {},
   "outputs": [
    {
     "data": {
      "text/plain": [
       "(784, 300)"
      ]
     },
     "execution_count": 17,
     "metadata": {},
     "output_type": "execute_result"
    }
   ],
   "source": [
    "weights.shape"
   ]
  },
  {
   "cell_type": "code",
   "execution_count": 19,
   "id": "6e17d61b",
   "metadata": {},
   "outputs": [
    {
     "data": {
      "text/plain": [
       "(300,)"
      ]
     },
     "execution_count": 19,
     "metadata": {},
     "output_type": "execute_result"
    }
   ],
   "source": [
    "biases.shape"
   ]
  },
  {
   "cell_type": "code",
   "execution_count": 22,
   "id": "5969c736",
   "metadata": {},
   "outputs": [
    {
     "data": {
      "text/plain": [
       "(55000, 28, 28)"
      ]
     },
     "execution_count": 22,
     "metadata": {},
     "output_type": "execute_result"
    }
   ],
   "source": [
    "X_train.shape"
   ]
  },
  {
   "cell_type": "code",
   "execution_count": 24,
   "id": "5e552acb",
   "metadata": {},
   "outputs": [],
   "source": [
    "model.compile(loss=\"sparse_categorical_crossentropy\",optimizer=\"sgd\",metrics=[\"accuracy\"])"
   ]
  },
  {
   "cell_type": "code",
   "execution_count": null,
   "id": "067299e5",
   "metadata": {},
   "outputs": [
    {
     "name": "stdout",
     "output_type": "stream",
     "text": [
      "Epoch 1/30\n",
      "1719/1719 [==============================] - 14s 8ms/step - loss: 0.7157 - accuracy: 0.7631 - val_loss: 0.5063 - val_accuracy: 0.8274\n",
      "Epoch 2/30\n",
      "1719/1719 [==============================] - 19s 11ms/step - loss: 0.4869 - accuracy: 0.8298 - val_loss: 0.4610 - val_accuracy: 0.8388\n",
      "Epoch 3/30\n",
      "1719/1719 [==============================] - 18s 10ms/step - loss: 0.4399 - accuracy: 0.8459 - val_loss: 0.4124 - val_accuracy: 0.8572\n",
      "Epoch 4/30\n",
      "1719/1719 [==============================] - 15s 9ms/step - loss: 0.4122 - accuracy: 0.8556 - val_loss: 0.4075 - val_accuracy: 0.8574\n",
      "Epoch 5/30\n",
      "1719/1719 [==============================] - 17s 10ms/step - loss: 0.3924 - accuracy: 0.8623 - val_loss: 0.3798 - val_accuracy: 0.8704\n",
      "Epoch 6/30\n",
      "1719/1719 [==============================] - 20s 12ms/step - loss: 0.3754 - accuracy: 0.8678 - val_loss: 0.3822 - val_accuracy: 0.8680\n",
      "Epoch 7/30\n",
      "1719/1719 [==============================] - 14s 8ms/step - loss: 0.3633 - accuracy: 0.8728 - val_loss: 0.3755 - val_accuracy: 0.8712\n",
      "Epoch 8/30\n",
      "1719/1719 [==============================] - 19s 11ms/step - loss: 0.3504 - accuracy: 0.8765 - val_loss: 0.3528 - val_accuracy: 0.8748\n",
      "Epoch 9/30\n",
      "1719/1719 [==============================] - 15s 9ms/step - loss: 0.3406 - accuracy: 0.8795 - val_loss: 0.3443 - val_accuracy: 0.8770\n",
      "Epoch 10/30\n",
      "1719/1719 [==============================] - 17s 10ms/step - loss: 0.3319 - accuracy: 0.8831 - val_loss: 0.3381 - val_accuracy: 0.8800\n",
      "Epoch 11/30\n",
      "1719/1719 [==============================] - 25s 15ms/step - loss: 0.3235 - accuracy: 0.8847 - val_loss: 0.3384 - val_accuracy: 0.8774\n",
      "Epoch 12/30\n",
      "1719/1719 [==============================] - 21s 12ms/step - loss: 0.3161 - accuracy: 0.8880 - val_loss: 0.3467 - val_accuracy: 0.8794\n",
      "Epoch 13/30\n",
      "1719/1719 [==============================] - 15s 9ms/step - loss: 0.3087 - accuracy: 0.8890 - val_loss: 0.3223 - val_accuracy: 0.8884\n",
      "Epoch 14/30\n",
      "1397/1719 [=======================>......] - ETA: 2s - loss: 0.3016 - accuracy: 0.8910"
     ]
    }
   ],
   "source": [
    "history = model.fit(X_train, y_train, epochs=30,validation_data=(X_valid, y_valid))"
   ]
  },
  {
   "cell_type": "code",
   "execution_count": null,
   "id": "093cb1a5",
   "metadata": {},
   "outputs": [],
   "source": [
    "import pandas as pd\n",
    "import matplotlib.pyplot as plt\n",
    "pd.DataFrame(history.history).plot(figsize=(8, 5))\n",
    "plt.grid(True)\n",
    "plt.gca().set_ylim(0, 1) # set the vertical range to [0-1]\n",
    "plt.show()"
   ]
  }
 ],
 "metadata": {
  "kernelspec": {
   "display_name": "Python 3 (ipykernel)",
   "language": "python",
   "name": "python3"
  },
  "language_info": {
   "codemirror_mode": {
    "name": "ipython",
    "version": 3
   },
   "file_extension": ".py",
   "mimetype": "text/x-python",
   "name": "python",
   "nbconvert_exporter": "python",
   "pygments_lexer": "ipython3",
   "version": "3.11.5"
  }
 },
 "nbformat": 4,
 "nbformat_minor": 5
}
