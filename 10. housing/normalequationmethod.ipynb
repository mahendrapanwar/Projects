{
 "cells": [
  {
   "cell_type": "code",
   "execution_count": 1,
   "id": "baf77614-b257-4fa5-9060-733e7429b75d",
   "metadata": {},
   "outputs": [],
   "source": [
    "import numpy as np\n",
    "import pandas as pd"
   ]
  },
  {
   "cell_type": "code",
   "execution_count": 2,
   "id": "f19c57cc-b91f-492e-8192-cb7a17e13c67",
   "metadata": {},
   "outputs": [],
   "source": [
    "data=pd.read_csv(\"data.csv\")"
   ]
  },
  {
   "cell_type": "code",
   "execution_count": 3,
   "id": "18e69f76-f3a3-48ac-b935-d1cab5ac0756",
   "metadata": {},
   "outputs": [],
   "source": [
    "from sklearn.preprocessing import LabelEncoder\n",
    "data.ocean_proximity=LabelEncoder().fit_transform(data.ocean_proximity)"
   ]
  },
  {
   "cell_type": "code",
   "execution_count": 4,
   "id": "96898721-d699-49e5-b067-f15f4e014dfa",
   "metadata": {},
   "outputs": [
    {
     "data": {
      "text/html": [
       "<div>\n",
       "<style scoped>\n",
       "    .dataframe tbody tr th:only-of-type {\n",
       "        vertical-align: middle;\n",
       "    }\n",
       "\n",
       "    .dataframe tbody tr th {\n",
       "        vertical-align: top;\n",
       "    }\n",
       "\n",
       "    .dataframe thead th {\n",
       "        text-align: right;\n",
       "    }\n",
       "</style>\n",
       "<table border=\"1\" class=\"dataframe\">\n",
       "  <thead>\n",
       "    <tr style=\"text-align: right;\">\n",
       "      <th></th>\n",
       "      <th>longitude</th>\n",
       "      <th>latitude</th>\n",
       "      <th>housing_median_age</th>\n",
       "      <th>total_rooms</th>\n",
       "      <th>total_bedrooms</th>\n",
       "      <th>population</th>\n",
       "      <th>households</th>\n",
       "      <th>median_income</th>\n",
       "      <th>median_house_value</th>\n",
       "      <th>ocean_proximity</th>\n",
       "    </tr>\n",
       "  </thead>\n",
       "  <tbody>\n",
       "    <tr>\n",
       "      <th>0</th>\n",
       "      <td>-122.23</td>\n",
       "      <td>37.88</td>\n",
       "      <td>41.0</td>\n",
       "      <td>880.0</td>\n",
       "      <td>129.0</td>\n",
       "      <td>322.0</td>\n",
       "      <td>126.0</td>\n",
       "      <td>8.3252</td>\n",
       "      <td>452600.0</td>\n",
       "      <td>3</td>\n",
       "    </tr>\n",
       "    <tr>\n",
       "      <th>1</th>\n",
       "      <td>-122.22</td>\n",
       "      <td>37.86</td>\n",
       "      <td>21.0</td>\n",
       "      <td>7099.0</td>\n",
       "      <td>1106.0</td>\n",
       "      <td>2401.0</td>\n",
       "      <td>1138.0</td>\n",
       "      <td>8.3014</td>\n",
       "      <td>358500.0</td>\n",
       "      <td>3</td>\n",
       "    </tr>\n",
       "    <tr>\n",
       "      <th>2</th>\n",
       "      <td>-122.24</td>\n",
       "      <td>37.85</td>\n",
       "      <td>52.0</td>\n",
       "      <td>1467.0</td>\n",
       "      <td>190.0</td>\n",
       "      <td>496.0</td>\n",
       "      <td>177.0</td>\n",
       "      <td>7.2574</td>\n",
       "      <td>352100.0</td>\n",
       "      <td>3</td>\n",
       "    </tr>\n",
       "    <tr>\n",
       "      <th>3</th>\n",
       "      <td>-122.25</td>\n",
       "      <td>37.85</td>\n",
       "      <td>52.0</td>\n",
       "      <td>1274.0</td>\n",
       "      <td>235.0</td>\n",
       "      <td>558.0</td>\n",
       "      <td>219.0</td>\n",
       "      <td>5.6431</td>\n",
       "      <td>341300.0</td>\n",
       "      <td>3</td>\n",
       "    </tr>\n",
       "    <tr>\n",
       "      <th>4</th>\n",
       "      <td>-122.25</td>\n",
       "      <td>37.85</td>\n",
       "      <td>52.0</td>\n",
       "      <td>1627.0</td>\n",
       "      <td>280.0</td>\n",
       "      <td>565.0</td>\n",
       "      <td>259.0</td>\n",
       "      <td>3.8462</td>\n",
       "      <td>342200.0</td>\n",
       "      <td>3</td>\n",
       "    </tr>\n",
       "  </tbody>\n",
       "</table>\n",
       "</div>"
      ],
      "text/plain": [
       "   longitude  latitude  housing_median_age  total_rooms  total_bedrooms  \\\n",
       "0    -122.23     37.88                41.0        880.0           129.0   \n",
       "1    -122.22     37.86                21.0       7099.0          1106.0   \n",
       "2    -122.24     37.85                52.0       1467.0           190.0   \n",
       "3    -122.25     37.85                52.0       1274.0           235.0   \n",
       "4    -122.25     37.85                52.0       1627.0           280.0   \n",
       "\n",
       "   population  households  median_income  median_house_value  ocean_proximity  \n",
       "0       322.0       126.0         8.3252            452600.0                3  \n",
       "1      2401.0      1138.0         8.3014            358500.0                3  \n",
       "2       496.0       177.0         7.2574            352100.0                3  \n",
       "3       558.0       219.0         5.6431            341300.0                3  \n",
       "4       565.0       259.0         3.8462            342200.0                3  "
      ]
     },
     "execution_count": 4,
     "metadata": {},
     "output_type": "execute_result"
    }
   ],
   "source": [
    "data.head()"
   ]
  },
  {
   "cell_type": "code",
   "execution_count": 5,
   "id": "aecda439-33b8-4f4c-9cf9-9c191c2eeac5",
   "metadata": {},
   "outputs": [],
   "source": [
    "data[\"constant\"]=pd.DataFrame(np.ones(len(data)))"
   ]
  },
  {
   "cell_type": "code",
   "execution_count": 6,
   "id": "23afba77-be3f-4eeb-a063-0aebdfa3fe6e",
   "metadata": {},
   "outputs": [],
   "source": [
    "train=data[:int(0.7*len(data))]\n",
    "test=data[int(0.7*len(data)):]"
   ]
  },
  {
   "cell_type": "code",
   "execution_count": 7,
   "id": "46d33fc5-1b5d-4441-9c9b-ecb6d61ed706",
   "metadata": {},
   "outputs": [],
   "source": [
    "trainy=train[\"median_house_value\"]\n",
    "testy=test[\"median_house_value\"]"
   ]
  },
  {
   "cell_type": "code",
   "execution_count": 8,
   "id": "6d2bcc3b-3f6b-4703-bea5-1c3c6b8a8edf",
   "metadata": {},
   "outputs": [],
   "source": [
    "trainx=train.drop([\"median_house_value\"],axis=1)\n",
    "testx=test.drop([\"median_house_value\"],axis=1)"
   ]
  },
  {
   "cell_type": "code",
   "execution_count": 9,
   "id": "16254d87-6c8e-4f92-8621-ac55b3303876",
   "metadata": {},
   "outputs": [],
   "source": [
    "trainx[\"total_bedrooms\"]=trainx[\"total_bedrooms\"].fillna(trainx[\"total_bedrooms\"].median())\n",
    "testx[\"total_bedrooms\"]=testx[\"total_bedrooms\"].fillna(trainx[\"total_bedrooms\"].median())"
   ]
  },
  {
   "cell_type": "code",
   "execution_count": 10,
   "id": "0fb85b1a-a1de-4669-b86e-f68abce75264",
   "metadata": {},
   "outputs": [],
   "source": [
    "trainx.columns=[0,1,2,3,4,5,6,7,8,9]"
   ]
  },
  {
   "cell_type": "code",
   "execution_count": 11,
   "id": "80dfb98e-1d1d-470c-ab8b-56a0a1076e16",
   "metadata": {},
   "outputs": [],
   "source": [
    "xtranspose=np.transpose(trainx)"
   ]
  },
  {
   "cell_type": "code",
   "execution_count": 12,
   "id": "82e529bc-be55-44f8-9fa0-acada0a916e4",
   "metadata": {},
   "outputs": [],
   "source": [
    "X_transpose_X = np.dot(xtranspose, trainx)"
   ]
  },
  {
   "cell_type": "code",
   "execution_count": 13,
   "id": "b16939b8-0e3b-42ee-bc98-c34701710d22",
   "metadata": {},
   "outputs": [],
   "source": [
    "q= np.dot(xtranspose, trainy)"
   ]
  },
  {
   "cell_type": "code",
   "execution_count": 14,
   "id": "dd3f14a3-6a17-4ea7-9708-d09f5fb5ab60",
   "metadata": {},
   "outputs": [],
   "source": [
    "p=np.linalg.inv(X_transpose_X)"
   ]
  },
  {
   "cell_type": "code",
   "execution_count": 15,
   "id": "8f8fd0de-eae1-4e5a-a7b2-14d4b169b65f",
   "metadata": {},
   "outputs": [],
   "source": [
    "r=np.dot(p,q)"
   ]
  },
  {
   "cell_type": "code",
   "execution_count": 16,
   "id": "65dfac09-c08b-4bed-82dd-23ab9fb84c34",
   "metadata": {},
   "outputs": [
    {
     "name": "stdout",
     "output_type": "stream",
     "text": [
      "[-3.81662778e+04 -4.14173595e+04  7.96271607e+02 -5.77845375e+00\n",
      "  6.82340713e+01 -4.63215425e+01  1.00406906e+02  3.93896563e+04\n",
      " -3.51953074e+03 -3.06081357e+06]\n"
     ]
    }
   ],
   "source": [
    "print(r)"
   ]
  },
  {
   "cell_type": "code",
   "execution_count": 17,
   "id": "a00566c2-b5b9-4af9-a73f-5e692ee2dce2",
   "metadata": {},
   "outputs": [],
   "source": [
    "s=np.dot(testx,r)"
   ]
  },
  {
   "cell_type": "code",
   "execution_count": 18,
   "id": "f174fbb8-6078-41d2-9f70-584ce337acee",
   "metadata": {},
   "outputs": [
    {
     "data": {
      "text/plain": [
       "14447    500001.0\n",
       "14448    450000.0\n",
       "14449    332400.0\n",
       "14450    394400.0\n",
       "14451    311900.0\n",
       "Name: median_house_value, dtype: float64"
      ]
     },
     "execution_count": 18,
     "metadata": {},
     "output_type": "execute_result"
    }
   ],
   "source": [
    "testy.head()"
   ]
  },
  {
   "cell_type": "code",
   "execution_count": 19,
   "id": "49354443-9e88-411a-a0ff-81897e533ce0",
   "metadata": {},
   "outputs": [],
   "source": [
    "s=pd.DataFrame(s)"
   ]
  },
  {
   "cell_type": "code",
   "execution_count": 20,
   "id": "ddbf5b28-74ce-42b1-af98-1193090dfbc8",
   "metadata": {},
   "outputs": [
    {
     "data": {
      "text/html": [
       "<div>\n",
       "<style scoped>\n",
       "    .dataframe tbody tr th:only-of-type {\n",
       "        vertical-align: middle;\n",
       "    }\n",
       "\n",
       "    .dataframe tbody tr th {\n",
       "        vertical-align: top;\n",
       "    }\n",
       "\n",
       "    .dataframe thead th {\n",
       "        text-align: right;\n",
       "    }\n",
       "</style>\n",
       "<table border=\"1\" class=\"dataframe\">\n",
       "  <thead>\n",
       "    <tr style=\"text-align: right;\">\n",
       "      <th></th>\n",
       "      <th>0</th>\n",
       "    </tr>\n",
       "  </thead>\n",
       "  <tbody>\n",
       "    <tr>\n",
       "      <th>0</th>\n",
       "      <td>352832.298226</td>\n",
       "    </tr>\n",
       "    <tr>\n",
       "      <th>1</th>\n",
       "      <td>235705.118232</td>\n",
       "    </tr>\n",
       "    <tr>\n",
       "      <th>2</th>\n",
       "      <td>289334.299088</td>\n",
       "    </tr>\n",
       "    <tr>\n",
       "      <th>3</th>\n",
       "      <td>336973.697211</td>\n",
       "    </tr>\n",
       "    <tr>\n",
       "      <th>4</th>\n",
       "      <td>237424.444302</td>\n",
       "    </tr>\n",
       "  </tbody>\n",
       "</table>\n",
       "</div>"
      ],
      "text/plain": [
       "               0\n",
       "0  352832.298226\n",
       "1  235705.118232\n",
       "2  289334.299088\n",
       "3  336973.697211\n",
       "4  237424.444302"
      ]
     },
     "execution_count": 20,
     "metadata": {},
     "output_type": "execute_result"
    }
   ],
   "source": [
    "s.head()"
   ]
  },
  {
   "cell_type": "code",
   "execution_count": null,
   "id": "e908743c-13e2-4c86-8d82-97ae08db8de2",
   "metadata": {},
   "outputs": [],
   "source": []
  }
 ],
 "metadata": {
  "kernelspec": {
   "display_name": "Python 3 (ipykernel)",
   "language": "python",
   "name": "python3"
  },
  "language_info": {
   "codemirror_mode": {
    "name": "ipython",
    "version": 3
   },
   "file_extension": ".py",
   "mimetype": "text/x-python",
   "name": "python",
   "nbconvert_exporter": "python",
   "pygments_lexer": "ipython3",
   "version": "3.11.5"
  }
 },
 "nbformat": 4,
 "nbformat_minor": 5
}
