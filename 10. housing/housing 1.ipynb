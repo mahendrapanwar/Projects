{
 "cells": [
  {
   "cell_type": "code",
   "execution_count": 1,
   "id": "671783e7-1c53-4ed0-ba5e-cbe7ab85f088",
   "metadata": {},
   "outputs": [],
   "source": [
    "import numpy as np \n",
    "import pandas as pd\n",
    "import matplotlib.pyplot as plt"
   ]
  },
  {
   "cell_type": "code",
   "execution_count": 3,
   "id": "6753f7a1-d31b-4f88-9a25-684b14af3802",
   "metadata": {},
   "outputs": [],
   "source": [
    "data=pd.read_csv(\"data.csv\")"
   ]
  },
  {
   "cell_type": "code",
   "execution_count": 5,
   "id": "51181e0e-cf37-4676-8d34-de97c25f9d96",
   "metadata": {},
   "outputs": [],
   "source": [
    "from sklearn.preprocessing import LabelEncoder\n",
    "data.ocean_proximity=LabelEncoder().fit_transform(data.ocean_proximity)"
   ]
  },
  {
   "cell_type": "code",
   "execution_count": 7,
   "id": "1d50a32c-b4b1-4480-be99-b44625154c44",
   "metadata": {},
   "outputs": [],
   "source": [
    "data=data.drop([\"longitude\",\"latitude\"],axis=1)"
   ]
  },
  {
   "cell_type": "code",
   "execution_count": 9,
   "id": "e87c452d-2ded-4788-b1ea-deaf443c8a2f",
   "metadata": {},
   "outputs": [],
   "source": [
    "data[\"constant\"]=pd.DataFrame(np.ones(len(data)))"
   ]
  },
  {
   "cell_type": "code",
   "execution_count": 11,
   "id": "9af5ab5e-0ce2-47d5-9831-8f81c1ba5b5a",
   "metadata": {},
   "outputs": [],
   "source": [
    "train=data[:int(0.7*len(data))]\n",
    "test=data[int(0.7*len(data)):]"
   ]
  },
  {
   "cell_type": "code",
   "execution_count": 13,
   "id": "afd79990-3207-445f-af83-edb44d79302a",
   "metadata": {},
   "outputs": [],
   "source": [
    "trainy=train[\"median_house_value\"]\n",
    "testy=test[\"median_house_value\"]"
   ]
  },
  {
   "cell_type": "code",
   "execution_count": 15,
   "id": "f2c90ad0-3fcf-4f44-aa6b-ba545fffd710",
   "metadata": {},
   "outputs": [],
   "source": [
    "trainx=train.drop([\"median_house_value\"],axis=1)\n",
    "testx=test.drop([\"median_house_value\"],axis=1)"
   ]
  },
  {
   "cell_type": "code",
   "execution_count": 17,
   "id": "36c079eb-52b1-48ce-84f9-70df148d9952",
   "metadata": {},
   "outputs": [],
   "source": [
    "theta=np.zeros(8)"
   ]
  },
  {
   "cell_type": "code",
   "execution_count": 19,
   "id": "72e61bd1-275b-4e51-abb7-cdd2a3afcbac",
   "metadata": {},
   "outputs": [],
   "source": [
    "theta=pd.DataFrame(theta)"
   ]
  },
  {
   "cell_type": "code",
   "execution_count": 21,
   "id": "66b4d242-34ad-40e6-a959-46d237a12770",
   "metadata": {},
   "outputs": [],
   "source": [
    "trainx[\"total_bedrooms\"]=trainx[\"total_bedrooms\"].fillna(trainx[\"total_bedrooms\"].median())\n",
    "testx[\"total_bedrooms\"]=testx[\"total_bedrooms\"].fillna(trainx[\"total_bedrooms\"].median())"
   ]
  },
  {
   "cell_type": "code",
   "execution_count": 23,
   "id": "77949ef1-2f4b-4f6e-bf78-d9342c93f1e1",
   "metadata": {},
   "outputs": [],
   "source": [
    "trainx.columns=[0,1,2,3,4,5,6,7]"
   ]
  },
  {
   "cell_type": "code",
   "execution_count": 25,
   "id": "a6ac7619-bbc2-4e77-8532-79dc752738c6",
   "metadata": {},
   "outputs": [],
   "source": [
    "testx.columns=[0,1,2,3,4,5,6,7]"
   ]
  },
  {
   "cell_type": "code",
   "execution_count": 27,
   "id": "c82d4fe2-f805-40d4-8754-121a294f155a",
   "metadata": {},
   "outputs": [],
   "source": [
    "y_pred=np.dot(trainx,theta)"
   ]
  },
  {
   "cell_type": "code",
   "execution_count": 29,
   "id": "cb17a52b-ba0a-468a-bb57-cf87800246d9",
   "metadata": {},
   "outputs": [],
   "source": [
    "m=trainy.size"
   ]
  },
  {
   "cell_type": "code",
   "execution_count": 31,
   "id": "dd1a38ea-339c-4de7-bb1c-14f2d74a62e4",
   "metadata": {},
   "outputs": [
    {
     "name": "stdout",
     "output_type": "stream",
     "text": [
      "14447\n",
      "14447\n",
      "14447\n"
     ]
    }
   ],
   "source": [
    "print(y_pred.size)\n",
    "print(trainy.size)\n",
    "print(trainx[0].size)"
   ]
  },
  {
   "cell_type": "code",
   "execution_count": null,
   "id": "4c9f3ce3-eec4-4fb7-bcdb-4731a328d41e",
   "metadata": {},
   "outputs": [],
   "source": [
    "class"
   ]
  },
  {
   "cell_type": "code",
   "execution_count": null,
   "id": "4d45aa9f-b57c-44fd-b187-c0a48410e82e",
   "metadata": {},
   "outputs": [],
   "source": []
  },
  {
   "cell_type": "code",
   "execution_count": null,
   "id": "b650f707-4735-4306-88da-cab35613c62b",
   "metadata": {},
   "outputs": [],
   "source": []
  }
 ],
 "metadata": {
  "kernelspec": {
   "display_name": "Python 3 (ipykernel)",
   "language": "python",
   "name": "python3"
  },
  "language_info": {
   "codemirror_mode": {
    "name": "ipython",
    "version": 3
   },
   "file_extension": ".py",
   "mimetype": "text/x-python",
   "name": "python",
   "nbconvert_exporter": "python",
   "pygments_lexer": "ipython3",
   "version": "3.11.5"
  }
 },
 "nbformat": 4,
 "nbformat_minor": 5
}
