{
 "cells": [
  {
   "cell_type": "code",
   "execution_count": 2,
   "id": "cb3e8959-620e-4d63-a36d-06d91fe8e193",
   "metadata": {},
   "outputs": [],
   "source": [
    "import numpy as np\n",
    "import pandas as pd"
   ]
  },
  {
   "cell_type": "code",
   "execution_count": 4,
   "id": "488b10cf-79fb-4123-bccf-83ddc6d01bd5",
   "metadata": {},
   "outputs": [],
   "source": [
    "data=pd.read_csv('iris.csv')"
   ]
  },
  {
   "cell_type": "code",
   "execution_count": 6,
   "id": "3c2c4bcb-a97a-4512-9410-0316994061d6",
   "metadata": {},
   "outputs": [],
   "source": [
    "totalrows=data.shape[0]"
   ]
  },
  {
   "cell_type": "code",
   "execution_count": 8,
   "id": "9d13a0e9-1377-4de2-ba42-55b1c85f472a",
   "metadata": {},
   "outputs": [],
   "source": [
    "traindatasize=int(totalrows*.75)"
   ]
  },
  {
   "cell_type": "code",
   "execution_count": 10,
   "id": "bf21db8a-8e3e-44b2-940f-c3bd25803c84",
   "metadata": {},
   "outputs": [
    {
     "name": "stdout",
     "output_type": "stream",
     "text": [
      "150\n"
     ]
    }
   ],
   "source": [
    "print(totalrows)"
   ]
  },
  {
   "cell_type": "code",
   "execution_count": 12,
   "id": "f5768909-51ae-4fa0-996b-28fb75c78cd9",
   "metadata": {},
   "outputs": [
    {
     "name": "stdout",
     "output_type": "stream",
     "text": [
      "112\n"
     ]
    }
   ],
   "source": [
    "print(traindatasize)"
   ]
  },
  {
   "cell_type": "code",
   "execution_count": 14,
   "id": "e8d41990-b520-4e94-9149-cfc29ec763e2",
   "metadata": {},
   "outputs": [],
   "source": [
    "train=data[0:traindatasize]\n",
    "test=data[traindatasize:]"
   ]
  },
  {
   "cell_type": "code",
   "execution_count": 16,
   "id": "f386f82d-bf2a-4d22-82ef-1dd6135908f6",
   "metadata": {},
   "outputs": [],
   "source": [
    "trainx=train.drop('species',axis=1)\n",
    "trainy=train['species']\n",
    "testx=test.drop('species',axis=1)\n",
    "testy=test['species']"
   ]
  },
  {
   "cell_type": "code",
   "execution_count": 18,
   "id": "c9d22ea4-5ede-465e-a1db-6b4b72040b4a",
   "metadata": {},
   "outputs": [
    {
     "data": {
      "text/plain": [
       "array(['Iris-setosa', 'Iris-versicolor', 'Iris-virginica'], dtype=object)"
      ]
     },
     "execution_count": 18,
     "metadata": {},
     "output_type": "execute_result"
    }
   ],
   "source": [
    "trainy.unique()"
   ]
  },
  {
   "cell_type": "code",
   "execution_count": 20,
   "id": "107a9117-fedf-4762-9c5f-241527ac9e6a",
   "metadata": {},
   "outputs": [
    {
     "name": "stderr",
     "output_type": "stream",
     "text": [
      "C:\\Users\\DELL\\AppData\\Local\\Temp\\ipykernel_4460\\1721845801.py:3: FutureWarning: Downcasting behavior in `replace` is deprecated and will be removed in a future version. To retain the old behavior, explicitly call `result.infer_objects(copy=False)`. To opt-in to the future behavior, set `pd.set_option('future.no_silent_downcasting', True)`\n",
      "  trainy=trainy.replace('Iris-virginica',3)\n"
     ]
    }
   ],
   "source": [
    "trainy=trainy.replace('Iris-setosa',1)\n",
    "trainy=trainy.replace('Iris-versicolor',2)\n",
    "trainy=trainy.replace('Iris-virginica',3)"
   ]
  },
  {
   "cell_type": "code",
   "execution_count": 22,
   "id": "5688058a-ac16-4c90-b8bb-d0ba6a5e32c5",
   "metadata": {},
   "outputs": [
    {
     "name": "stderr",
     "output_type": "stream",
     "text": [
      "C:\\Users\\DELL\\AppData\\Local\\Temp\\ipykernel_4460\\3507926193.py:3: FutureWarning: Downcasting behavior in `replace` is deprecated and will be removed in a future version. To retain the old behavior, explicitly call `result.infer_objects(copy=False)`. To opt-in to the future behavior, set `pd.set_option('future.no_silent_downcasting', True)`\n",
      "  testy=testy.replace('Iris-virginica',3)\n"
     ]
    }
   ],
   "source": [
    "testy=testy.replace('Iris-setosa',1)\n",
    "testy=testy.replace('Iris-versicolor',2)\n",
    "testy=testy.replace('Iris-virginica',3)"
   ]
  },
  {
   "cell_type": "code",
   "execution_count": 56,
   "id": "af6f5c64-8aa0-4b67-af05-9e4e674ea856",
   "metadata": {},
   "outputs": [
    {
     "data": {
      "text/html": [
       "<div>\n",
       "<style scoped>\n",
       "    .dataframe tbody tr th:only-of-type {\n",
       "        vertical-align: middle;\n",
       "    }\n",
       "\n",
       "    .dataframe tbody tr th {\n",
       "        vertical-align: top;\n",
       "    }\n",
       "\n",
       "    .dataframe thead th {\n",
       "        text-align: right;\n",
       "    }\n",
       "</style>\n",
       "<table border=\"1\" class=\"dataframe\">\n",
       "  <thead>\n",
       "    <tr style=\"text-align: right;\">\n",
       "      <th></th>\n",
       "      <th>sepal_length</th>\n",
       "      <th>sepal_width</th>\n",
       "      <th>petal_length</th>\n",
       "      <th>petal_width</th>\n",
       "    </tr>\n",
       "  </thead>\n",
       "  <tbody>\n",
       "    <tr>\n",
       "      <th>0</th>\n",
       "      <td>5.1</td>\n",
       "      <td>3.5</td>\n",
       "      <td>1.4</td>\n",
       "      <td>0.2</td>\n",
       "    </tr>\n",
       "    <tr>\n",
       "      <th>1</th>\n",
       "      <td>4.9</td>\n",
       "      <td>3.0</td>\n",
       "      <td>1.4</td>\n",
       "      <td>0.2</td>\n",
       "    </tr>\n",
       "    <tr>\n",
       "      <th>2</th>\n",
       "      <td>4.7</td>\n",
       "      <td>3.2</td>\n",
       "      <td>1.3</td>\n",
       "      <td>0.2</td>\n",
       "    </tr>\n",
       "    <tr>\n",
       "      <th>3</th>\n",
       "      <td>4.6</td>\n",
       "      <td>3.1</td>\n",
       "      <td>1.5</td>\n",
       "      <td>0.2</td>\n",
       "    </tr>\n",
       "    <tr>\n",
       "      <th>4</th>\n",
       "      <td>5.0</td>\n",
       "      <td>3.6</td>\n",
       "      <td>1.4</td>\n",
       "      <td>0.2</td>\n",
       "    </tr>\n",
       "  </tbody>\n",
       "</table>\n",
       "</div>"
      ],
      "text/plain": [
       "   sepal_length  sepal_width  petal_length  petal_width\n",
       "0           5.1          3.5           1.4          0.2\n",
       "1           4.9          3.0           1.4          0.2\n",
       "2           4.7          3.2           1.3          0.2\n",
       "3           4.6          3.1           1.5          0.2\n",
       "4           5.0          3.6           1.4          0.2"
      ]
     },
     "execution_count": 56,
     "metadata": {},
     "output_type": "execute_result"
    }
   ],
   "source": [
    "trainx.head()"
   ]
  },
  {
   "cell_type": "code",
   "execution_count": 62,
   "id": "0ac44084-650a-4f49-95da-db7a233601f8",
   "metadata": {},
   "outputs": [
    {
     "data": {
      "image/png": "[encoded data removed]",
      "text/plain": [
       "<Figure size 640x480 with 1 Axes>"
      ]
     },
     "metadata": {},
     "output_type": "display_data"
    }
   ],
   "source": [
    "import matplotlib.pyplot as plt\n",
    "plt.scatter(trainx['petal_length'], trainy)\n",
    "plt.title(\"Scatter Plot\")\n",
    "plt.xlabel(\"trainx\")\n",
    "plt.ylabel(\"trainy\")\n",
    "plt.show()"
   ]
  },
  {
   "cell_type": "code",
   "execution_count": 64,
   "id": "b49f2409-6ee4-4952-b08b-1b70aa7fbb80",
   "metadata": {},
   "outputs": [
    {
     "data": {
      "image/png": "[encoded data removed]",
      "text/plain": [
       "<Figure size 640x480 with 1 Axes>"
      ]
     },
     "metadata": {},
     "output_type": "display_data"
    }
   ],
   "source": [
    "import matplotlib.pyplot as plt\n",
    "plt.scatter(trainx['petal_width'], trainy)\n",
    "plt.title(\"Scatter Plot\")\n",
    "plt.xlabel(\"trainx\")\n",
    "plt.ylabel(\"trainy\")\n",
    "plt.show()"
   ]
  },
  {
   "cell_type": "code",
   "execution_count": 60,
   "id": "3d3dad91-a840-4a2c-ba39-922b42e3a3da",
   "metadata": {},
   "outputs": [
    {
     "data": {
      "image/png": "[encoded data removed]",
      "text/plain": [
       "<Figure size 640x480 with 1 Axes>"
      ]
     },
     "metadata": {},
     "output_type": "display_data"
    }
   ],
   "source": [
    "import matplotlib.pyplot as plt\n",
    "plt.scatter(trainx['sepal_width'], trainy)\n",
    "plt.title(\"Scatter Plot\")\n",
    "plt.xlabel(\"trainx\")\n",
    "plt.ylabel(\"trainy\")\n",
    "plt.show()"
   ]
  },
  {
   "cell_type": "code",
   "execution_count": 58,
   "id": "0998a668-fa3a-4009-b329-054ba1576251",
   "metadata": {},
   "outputs": [
    {
     "data": {
      "image/png": "[encoded data removed]",
      "text/plain": [
       "<Figure size 640x480 with 1 Axes>"
      ]
     },
     "metadata": {},
     "output_type": "display_data"
    }
   ],
   "source": [
    "import matplotlib.pyplot as plt\n",
    "plt.scatter(trainx['sepal_length'], trainy)\n",
    "plt.title(\"Scatter Plot\")\n",
    "plt.xlabel(\"trainx\")\n",
    "plt.ylabel(\"trainy\")\n",
    "plt.show()"
   ]
  },
  {
   "cell_type": "code",
   "execution_count": 66,
   "id": "b233f282-24ef-4101-a2d0-642ca97431d9",
   "metadata": {},
   "outputs": [],
   "source": [
    "#Output values are countable and Graphs shows that this is a classification problem"
   ]
  },
  {
   "cell_type": "code",
   "execution_count": 68,
   "id": "b9297bd8-544c-42b7-a396-be27d48c5545",
   "metadata": {},
   "outputs": [],
   "source": [
    "#it has 3 values as output so it is multiclass classification not a binary classification"
   ]
  },
  {
   "cell_type": "code",
   "execution_count": 70,
   "id": "753b0381-4a80-472b-ab7a-8d1ae87075aa",
   "metadata": {},
   "outputs": [],
   "source": [
    "from sklearn import datasets, linear_model, metrics"
   ]
  },
  {
   "cell_type": "code",
   "execution_count": 74,
   "id": "79650646-8bd2-4ba6-a18f-e50ffe8c93a0",
   "metadata": {},
   "outputs": [],
   "source": [
    "reg = linear_model.LogisticRegression(max_iter=10000, random_state=0)\n",
    "reg.fit(trainx, trainy)\n",
    "\n",
    "y_pred = reg.predict(testx)"
   ]
  },
  {
   "cell_type": "code",
   "execution_count": 76,
   "id": "4e663e7d-4ef6-4a8b-b1fd-3c0896d35199",
   "metadata": {},
   "outputs": [],
   "source": [
    "from sklearn.metrics import mean_absolute_error,mean_squared_error"
   ]
  },
  {
   "cell_type": "code",
   "execution_count": 78,
   "id": "7b790d53-070e-4a82-a3b8-99e21c0899ba",
   "metadata": {},
   "outputs": [],
   "source": [
    "mae = mean_absolute_error(testy,predicted_value)"
   ]
  },
  {
   "cell_type": "code",
   "execution_count": 80,
   "id": "e01ce461-c218-4e1e-a933-1735c53a005e",
   "metadata": {},
   "outputs": [
    {
     "name": "stdout",
     "output_type": "stream",
     "text": [
      "0.3568236204610779\n"
     ]
    }
   ],
   "source": [
    "print(mae)"
   ]
  },
  {
   "cell_type": "code",
   "execution_count": 82,
   "id": "c7d58903-364c-42df-808e-2ec09203623e",
   "metadata": {},
   "outputs": [],
   "source": [
    "mse = mean_squared_error(testy,predicted_value)"
   ]
  },
  {
   "cell_type": "code",
   "execution_count": 84,
   "id": "7a57fdbe-b5a9-43c5-8b59-6cded18a412a",
   "metadata": {},
   "outputs": [
    {
     "name": "stdout",
     "output_type": "stream",
     "text": [
      "0.15685999993569877\n"
     ]
    }
   ],
   "source": [
    "print(mse)"
   ]
  },
  {
   "cell_type": "code",
   "execution_count": 86,
   "id": "650d6e74-1852-40a2-8e7c-65768f0e6bd7",
   "metadata": {},
   "outputs": [
    {
     "name": "stderr",
     "output_type": "stream",
     "text": [
      "C:\\Users\\DELL\\anaconda3\\Lib\\site-packages\\sklearn\\metrics\\_regression.py:492: FutureWarning: 'squared' is deprecated in version 1.4 and will be removed in 1.6. To calculate the root mean squared error, use the function'root_mean_squared_error'.\n",
      "  warnings.warn(\n"
     ]
    }
   ],
   "source": [
    "rmse = mean_squared_error(testy,predicted_value,squared=False)"
   ]
  },
  {
   "cell_type": "code",
   "execution_count": 88,
   "id": "a8919330-2af0-45fd-8ae3-6e7a4f351475",
   "metadata": {},
   "outputs": [
    {
     "name": "stdout",
     "output_type": "stream",
     "text": [
      "0.3960555515779305\n"
     ]
    }
   ],
   "source": [
    "print(rmse)"
   ]
  }
 ],
 "metadata": {
  "kernelspec": {
   "display_name": "Python [conda env:base] *",
   "language": "python",
   "name": "conda-base-py"
  },
  "language_info": {
   "codemirror_mode": {
    "name": "ipython",
    "version": 3
   },
   "file_extension": ".py",
   "mimetype": "text/x-python",
   "name": "python",
   "nbconvert_exporter": "python",
   "pygments_lexer": "ipython3",
   "version": "3.12.7"
  }
 },
 "nbformat": 4,
 "nbformat_minor": 5
}
