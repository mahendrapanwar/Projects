{
 "cells": [
  {
   "cell_type": "markdown",
   "id": "2451b342",
   "metadata": {
    "papermill": {
     "duration": 0.012382,
     "end_time": "2024-05-14T18:10:54.522528",
     "exception": false,
     "start_time": "2024-05-14T18:10:54.510146",
     "status": "completed"
    },
    "tags": []
   },
   "source": [
    "# Introduction\n",
    "In this competition, we’re challenged to build a machine learning model that predicts which Tweets are about real disasters and which one’s aren’t. We have access to a dataset of 10,000 tweets that were hand classified.\n",
    "\n",
    "I wanted to try to use LSTM in NLP as a part of my learning journey. I tried to explain some concept that were important also for me to understand. My inspiration was this notebook: https://www.kaggle.com/code/tmishinev/nlp-disaster-tweets-keras-lstm\n",
    "\n",
    "\n",
    "I hope that you'll enjoy this notebook!\n",
    "\n",
    "\n",
    "## LSTM\n",
    "Long Short-Term Memory (LSTM) networks have emerged as powerful tools in the field of Natural Language Processing (NLP), offering a solution to the challenges posed by the sequential and variable-length nature of language data. LSTMs are a type of recurrent neural network (RNN) that has been specifically designed to address the vanishing gradient problem, which often hinders the training of traditional RNNs.\n",
    "\n",
    "LSTM works particularly well in this area as it remembers patterns and important information well. In LSTM, determining the class uses a multiple word string. Correct Embedding will enable the LSTM model to guess the correct meaning of the text and classify it."
   ]
  },
  {
   "cell_type": "markdown",
   "id": "3f14c654",
   "metadata": {
    "papermill": {
     "duration": 0.011616,
     "end_time": "2024-05-14T18:10:54.546256",
     "exception": false,
     "start_time": "2024-05-14T18:10:54.534640",
     "status": "completed"
    },
    "tags": []
   },
   "source": [
    "# Content:\n",
    "1. [Imports](#1)\n",
    "2. [Tokenizer:](#2)\n",
    "    * [fit_on_texts](#2.1)\n",
    "    * [texts_to_sequences](#2.2)\n",
    "    * [pad_sequences](#2.1)\n",
    "3. [Split of data into training and testing](#3)\n",
    "4. [LSTM Model:](#4)\n",
    "    * [Embedding](#4.1)\n",
    "    * [Summary](#4.2)\n",
    "5. [Evaluation:](#5)\n",
    "    * [Confusion Matrix](#5.1)\n",
    "    * [Accuracy](#5.2)\n",
    "    * [Precision](#5.3)\n",
    "    * [Recall](#5.4)\n",
    "    * [F1 Score](#5.5)\n",
    "6. [Predictions](#6)"
   ]
  },
  {
   "cell_type": "markdown",
   "id": "1acce26d",
   "metadata": {
    "papermill": {
     "duration": 0.011624,
     "end_time": "2024-05-14T18:10:54.569908",
     "exception": false,
     "start_time": "2024-05-14T18:10:54.558284",
     "status": "completed"
    },
    "tags": []
   },
   "source": [
    "# <a id=\"1\">Imports</a>"
   ]
  },
  {
   "cell_type": "code",
   "execution_count": 1,
   "id": "87f7a448",
   "metadata": {
    "_kg_hide-input": true,
    "_kg_hide-output": true,
    "papermill": {
     "duration": 16.12467,
     "end_time": "2024-05-14T18:11:10.706537",
     "exception": false,
     "start_time": "2024-05-14T18:10:54.581867",
     "status": "completed"
    },
    "tags": []
   },
   "outputs": [
    {
     "name": "stderr",
     "output_type": "stream",
     "text": [
      "2024-06-11 10:36:29.563976: I tensorflow/core/platform/cpu_feature_guard.cc:182] This TensorFlow binary is optimized to use available CPU instructions in performance-critical operations.\n",
      "To enable the following instructions: SSE4.1 SSE4.2 AVX AVX2 AVX512F AVX512_VNNI FMA, in other operations, rebuild TensorFlow with the appropriate compiler flags.\n"
     ]
    }
   ],
   "source": [
    "# This Python 3 environment comes with many helpful analytics libraries installed\n",
    "# It is defined by the kaggle/python Docker image: https://github.com/kaggle/docker-python\n",
    "# For example, here's several helpful packages to load\n",
    "\n",
    "import numpy as np # linear algebra\n",
    "import pandas as pd # data processing, CSV file I/O (e.g. pd.read_csv)\n",
    "\n",
    "# Input data files are available in the read-only \"../input/\" directory\n",
    "# For example, running this (by clicking run or pressing Shift+Enter) will list all files under the input directory\n",
    "\n",
    "import os\n",
    "for dirname, _, filenames in os.walk('/kaggle/input'):\n",
    "    for filename in filenames:\n",
    "        print(os.path.join(dirname, filename))\n",
    "\n",
    "# You can write up to 20GB to the current directory (/kaggle/working/) that gets preserved as output when you create a version using \"Save & Run All\" \n",
    "# You can also write temporary files to /kaggle/temp/, but they won't be saved outside of the current session\n",
    "\n",
    "import matplotlib.pyplot as plt\n",
    "from sklearn.model_selection import train_test_split\n",
    "import tensorflow as tf\n",
    "import seaborn as sns\n",
    "\n",
    "from tensorflow import keras\n",
    "from tensorflow.keras.preprocessing.text import Tokenizer\n",
    "from tensorflow.keras.preprocessing.sequence import pad_sequences\n",
    "\n",
    "from tensorflow.keras import optimizers\n",
    "from tensorflow.keras.models import Sequential\n",
    "from tensorflow.keras.layers import Dense, Embedding, LSTM, Dropout, Bidirectional\n",
    "\n",
    "from sklearn.metrics import confusion_matrix, classification_report, accuracy_score, precision_score, recall_score, f1_score"
   ]
  },
  {
   "cell_type": "code",
   "execution_count": 3,
   "id": "2bd5a988",
   "metadata": {
    "_kg_hide-input": true,
    "papermill": {
     "duration": 0.095327,
     "end_time": "2024-05-14T18:11:10.815068",
     "exception": false,
     "start_time": "2024-05-14T18:11:10.719741",
     "status": "completed"
    },
    "tags": []
   },
   "outputs": [],
   "source": [
    "train = pd.read_csv('train.csv')\n",
    "test = pd.read_csv('test.csv')"
   ]
  },
  {
   "cell_type": "markdown",
   "id": "1a6c7e44",
   "metadata": {
    "papermill": {
     "duration": 0.012063,
     "end_time": "2024-05-14T18:11:10.839942",
     "exception": false,
     "start_time": "2024-05-14T18:11:10.827879",
     "status": "completed"
    },
    "tags": []
   },
   "source": [
    "# <a id=\"2\">Tokenizer</a>\n",
    "\n",
    "This class allows to vectorize a text corpus, by turning each text into either a sequence of integers (each integer being the index of a token in a dictionary) or into a vector where the coefficient for each token could be binary, based on word count, tf-idf etc.\n",
    "\n",
    "By default, all punctuation is removed, turning the texts into space-separated sequences of words (words may include the ' character). These sequences are then split into lists of tokens. They will then be indexed or vectorized.\n",
    "\n",
    "Documentation: https://www.tensorflow.org/api_docs/python/tf/keras/preprocessing/text/Tokenizer\n",
    "\n",
    "Data preparation is performed by Tokenizer to convert input data to integer encoded."
   ]
  },
  {
   "cell_type": "code",
   "execution_count": 6,
   "id": "3f2abc66",
   "metadata": {
    "_kg_hide-input": true,
    "papermill": {
     "duration": 0.020417,
     "end_time": "2024-05-14T18:11:10.872770",
     "exception": false,
     "start_time": "2024-05-14T18:11:10.852353",
     "status": "completed"
    },
    "tags": []
   },
   "outputs": [],
   "source": [
    "max_features=3000\n",
    "tokenizer=Tokenizer(num_words=max_features,split=' ')"
   ]
  },
  {
   "cell_type": "markdown",
   "id": "22302889",
   "metadata": {
    "papermill": {
     "duration": 0.012163,
     "end_time": "2024-05-14T18:11:10.897533",
     "exception": false,
     "start_time": "2024-05-14T18:11:10.885370",
     "status": "completed"
    },
    "tags": []
   },
   "source": [
    "### <a id=\"2.1\">fit_on_texts</a>\n",
    "\n",
    "* Updates internal vocabulary based on a list of texts\n",
    "* In the case where texts contains lists, we assume each entry of the lists to be a token\n",
    "* Required before using texts_to_sequences or texts_to_matrix"
   ]
  },
  {
   "cell_type": "code",
   "execution_count": 9,
   "id": "e2d65061",
   "metadata": {
    "papermill": {
     "duration": 0.288727,
     "end_time": "2024-05-14T18:11:11.198576",
     "exception": false,
     "start_time": "2024-05-14T18:11:10.909849",
     "status": "completed"
    },
    "tags": []
   },
   "outputs": [],
   "source": [
    "tokenizer.fit_on_texts(train['text'].values)"
   ]
  },
  {
   "cell_type": "markdown",
   "id": "5807fb74",
   "metadata": {
    "papermill": {
     "duration": 0.011877,
     "end_time": "2024-05-14T18:11:11.222937",
     "exception": false,
     "start_time": "2024-05-14T18:11:11.211060",
     "status": "completed"
    },
    "tags": []
   },
   "source": [
    "### <a id=\"2.2\">texts_to_sequences</a>\n",
    "\n",
    "* Transforms each text in texts to a sequence of integers.\n",
    "* Only top num_words-1 most frequent words will be taken into account\n",
    "* Only words known by the tokenizer will be taken into account"
   ]
  },
  {
   "cell_type": "code",
   "execution_count": 12,
   "id": "5e51aa5a",
   "metadata": {
    "papermill": {
     "duration": 0.20068,
     "end_time": "2024-05-14T18:11:11.436478",
     "exception": false,
     "start_time": "2024-05-14T18:11:11.235798",
     "status": "completed"
    },
    "tags": []
   },
   "outputs": [],
   "source": [
    "X = tokenizer.texts_to_sequences(train['text'].values)"
   ]
  },
  {
   "cell_type": "markdown",
   "id": "e9641d2e",
   "metadata": {
    "papermill": {
     "duration": 0.011892,
     "end_time": "2024-05-14T18:11:11.460610",
     "exception": false,
     "start_time": "2024-05-14T18:11:11.448718",
     "status": "completed"
    },
    "tags": []
   },
   "source": [
    "### <a id=\"2.3\">pad_sequences</a>\n",
    "\n",
    "This function transforms a list (of length num_samples) of sequences (lists of integers) into a 2D Numpy array of shape (num_samples, num_timesteps). num_timesteps is either the maxlen argument if provided, or the length of the longest sequence in the list.\n",
    "\n",
    "* Sequences that are shorter than num_timesteps are padded with value until they are num_timesteps long\n",
    "* Sequences longer than num_timesteps are truncated so that they fit the desired length"
   ]
  },
  {
   "cell_type": "code",
   "execution_count": 15,
   "id": "ba696092",
   "metadata": {
    "papermill": {
     "duration": 0.064643,
     "end_time": "2024-05-14T18:11:11.537285",
     "exception": false,
     "start_time": "2024-05-14T18:11:11.472642",
     "status": "completed"
    },
    "tags": []
   },
   "outputs": [],
   "source": [
    "X = pad_sequences(X)"
   ]
  },
  {
   "cell_type": "markdown",
   "id": "0d0b4928",
   "metadata": {
    "papermill": {
     "duration": 0.011997,
     "end_time": "2024-05-14T18:11:11.562370",
     "exception": false,
     "start_time": "2024-05-14T18:11:11.550373",
     "status": "completed"
    },
    "tags": []
   },
   "source": [
    "# <a id=\"3\">Split of data into training and testing</a>"
   ]
  },
  {
   "cell_type": "code",
   "execution_count": 18,
   "id": "72908c29",
   "metadata": {
    "_kg_hide-input": true,
    "papermill": {
     "duration": 0.024932,
     "end_time": "2024-05-14T18:11:11.599655",
     "exception": false,
     "start_time": "2024-05-14T18:11:11.574723",
     "status": "completed"
    },
    "tags": []
   },
   "outputs": [],
   "source": [
    "y = train['target']\n",
    "\n",
    "X_train, X_valid, y_train, y_valid = train_test_split(X,y, test_size = 0.2, random_state =41)"
   ]
  },
  {
   "cell_type": "markdown",
   "id": "c13dfa5c",
   "metadata": {
    "papermill": {
     "duration": 0.011897,
     "end_time": "2024-05-14T18:11:11.623840",
     "exception": false,
     "start_time": "2024-05-14T18:11:11.611943",
     "status": "completed"
    },
    "tags": []
   },
   "source": [
    "# <a id=\"4\">LSTM Model</a>\n",
    "\n",
    "## <a id=\"4.1\">Embedding layer</a>\n",
    "\n",
    "Turns positive integers (indexes) into dense vectors of fixed size.\n",
    "\n",
    "<b>e.g. [[4], [20]] -> [[0.25, 0.1], [0.6, -0.2]]</b>\n",
    "\n",
    "This layer can only be used on positive integer inputs of a fixed range.\n",
    "\n",
    "<b>Input shape:</b>\n",
    "2D tensor with shape: (batch_size, input_length).\n",
    "\n",
    "<b>Output shape:</b>\n",
    "3D tensor with shape: (batch_size, input_length, output_dim).\n",
    "\n",
    "<b>Arguments:</b>\n",
    "* input_dim: Size of the vocabulary, i.e. maximum integer index + 1.\n",
    "* output_dim: Dimension of the dense embedding.\n",
    "* embeddings_initializer: Initializer for the embeddings matrix\n",
    "* embeddings_regularizer: Regularizer function applied to the embeddings matrix\n",
    "* embeddings_constraint: Constraint function applied to the embeddings matrix\n",
    "* mask_zero: Whether or not the input value 0 is a special \"padding\" value that should be masked out\n",
    "\n",
    "Documentation: https://keras.io/api/layers/core_layers/embedding/\n",
    "\n",
    "\n",
    "\n",
    "### Description\n",
    "\n",
    "This layer is most often used in NLP tasks. It transforms string into numerical values to fit the model. It precisely converts a word into a fixed length vector of defined size. The fixed length of word vectors helps us to represent words in a better way along with reduced dimensions. The position of the vectors is defined by the words surrounding the word, they should be closer to that vector in space.\n",
    "\n",
    "The Embedding layer is initialized with random weights and will learn an embedding for all of the words in the training dataset.\n",
    "\n",
    "You can check the visualization of these vectors here: https://projector.tensorflow.org/\n",
    "\n",
    "### Visualization of word embeddings\n",
    "![image.png](https://miro.medium.com/v2/resize:fit:990/1*Fat62b1ZITOFMPXTcHNkLw.jpeg)"
   ]
  },
  {
   "cell_type": "code",
   "execution_count": 21,
   "id": "45828ebb",
   "metadata": {
    "papermill": {
     "duration": 32.318757,
     "end_time": "2024-05-14T18:11:43.954849",
     "exception": false,
     "start_time": "2024-05-14T18:11:11.636092",
     "status": "completed"
    },
    "tags": []
   },
   "outputs": [
    {
     "name": "stderr",
     "output_type": "stream",
     "text": [
      "2024-06-11 10:19:06.690052: I tensorflow/core/common_runtime/process_util.cc:146] Creating new thread pool with default inter op setting: 2. Tune using inter_op_parallelism_threads for best performance.\n"
     ]
    },
    {
     "name": "stdout",
     "output_type": "stream",
     "text": [
      "Epoch 1/3\n",
      "191/191 [==============================] - 25s 108ms/step - loss: 0.5795 - accuracy: 0.6821 - val_loss: 0.4461 - val_accuracy: 0.7984\n",
      "Epoch 2/3\n",
      "191/191 [==============================] - 25s 133ms/step - loss: 0.3984 - accuracy: 0.8292 - val_loss: 0.4214 - val_accuracy: 0.8030\n",
      "Epoch 3/3\n",
      "191/191 [==============================] - 27s 141ms/step - loss: 0.3406 - accuracy: 0.8594 - val_loss: 0.4381 - val_accuracy: 0.8063\n",
      "48/48 [==============================] - 2s 23ms/step\n"
     ]
    }
   ],
   "source": [
    "model = Sequential([\n",
    "    Embedding(max_features, 32, input_length = X.shape[1]),\n",
    "    Dropout(0.2),\n",
    "    Bidirectional(LSTM(32, dropout=0.2, recurrent_dropout=0.4)),\n",
    "    Dense(1,activation='sigmoid'),\n",
    "])\n",
    "\n",
    "model.compile(loss = 'binary_crossentropy', optimizer='adam' ,metrics = ['accuracy'])\n",
    "\n",
    "history = model.fit(X_train, y_train, epochs=3, batch_size=32, validation_data=(X_valid, y_valid))\n",
    "y_pred = model.predict(X_valid).round()"
   ]
  },
  {
   "cell_type": "code",
   "execution_count": 23,
   "id": "6c14df75",
   "metadata": {
    "papermill": {
     "duration": 0.051395,
     "end_time": "2024-05-14T18:11:44.046966",
     "exception": false,
     "start_time": "2024-05-14T18:11:43.995571",
     "status": "completed"
    },
    "tags": []
   },
   "outputs": [
    {
     "name": "stdout",
     "output_type": "stream",
     "text": [
      "Shape of predictions: (1523, 1)\n"
     ]
    }
   ],
   "source": [
    "print(\"Shape of predictions:\", y_pred.shape)"
   ]
  },
  {
   "cell_type": "markdown",
   "id": "eca08dff",
   "metadata": {
    "papermill": {
     "duration": 0.040332,
     "end_time": "2024-05-14T18:11:44.188002",
     "exception": false,
     "start_time": "2024-05-14T18:11:44.147670",
     "status": "completed"
    },
    "tags": []
   },
   "source": [
    "## <a id=\"4.2\">Summary</a>"
   ]
  },
  {
   "cell_type": "code",
   "execution_count": 26,
   "id": "c8bea50e",
   "metadata": {
    "_kg_hide-input": true,
    "papermill": {
     "duration": 0.074561,
     "end_time": "2024-05-14T18:11:44.302942",
     "exception": false,
     "start_time": "2024-05-14T18:11:44.228381",
     "status": "completed"
    },
    "tags": []
   },
   "outputs": [
    {
     "name": "stdout",
     "output_type": "stream",
     "text": [
      "Model: \"sequential\"\n",
      "_________________________________________________________________\n",
      " Layer (type)                Output Shape              Param #   \n",
      "=================================================================\n",
      " embedding (Embedding)       (None, 31, 32)            96000     \n",
      "                                                                 \n",
      " dropout (Dropout)           (None, 31, 32)            0         \n",
      "                                                                 \n",
      " bidirectional (Bidirectiona  (None, 64)               16640     \n",
      " l)                                                              \n",
      "                                                                 \n",
      " dense (Dense)               (None, 1)                 65        \n",
      "                                                                 \n",
      "=================================================================\n",
      "Total params: 112,705\n",
      "Trainable params: 112,705\n",
      "Non-trainable params: 0\n",
      "_________________________________________________________________\n"
     ]
    }
   ],
   "source": [
    "model.summary()"
   ]
  },
  {
   "cell_type": "markdown",
   "id": "a2f17f4e",
   "metadata": {
    "papermill": {
     "duration": 0.041775,
     "end_time": "2024-05-14T18:11:44.387412",
     "exception": false,
     "start_time": "2024-05-14T18:11:44.345637",
     "status": "completed"
    },
    "tags": []
   },
   "source": [
    "# <a id=\"5\">Evaluation</a>\n",
    "\n",
    "## <a id=\"5.1\">Confusion Matrix</a>"
   ]
  },
  {
   "cell_type": "code",
   "execution_count": 29,
   "id": "0b824367",
   "metadata": {
    "papermill": {
     "duration": 0.389806,
     "end_time": "2024-05-14T18:11:44.819955",
     "exception": false,
     "start_time": "2024-05-14T18:11:44.430149",
     "status": "completed"
    },
    "tags": []
   },
   "outputs": [
    {
     "data": {
      "text/plain": [
       "Text(70.72222222222221, 0.5, 'Real Labels')"
      ]
     },
     "execution_count": 29,
     "metadata": {},
     "output_type": "execute_result"
    },
    {
     "data": {
      "image/png": "[encoded data removed]",
      "text/plain": [
       "<Figure size 800x600 with 2 Axes>"
      ]
     },
     "metadata": {},
     "output_type": "display_data"
    }
   ],
   "source": [
    "plt.figure(figsize = (8,6))\n",
    "\n",
    "sns.heatmap(confusion_matrix(y_pred, y_valid), annot=True, fmt='', cmap='rocket')\n",
    "\n",
    "plt.xlabel('Predicted Labels')\n",
    "plt.ylabel('Real Labels')"
   ]
  },
  {
   "attachments": {
    "a9822a1c-aee3-4014-b12c-fd21ac265755.png": {
     "image/png": "[encoded data removed]"
    }
   },
   "cell_type": "markdown",
   "id": "8368256f",
   "metadata": {
    "papermill": {
     "duration": 0.042799,
     "end_time": "2024-05-14T18:11:44.906003",
     "exception": false,
     "start_time": "2024-05-14T18:11:44.863204",
     "status": "completed"
    },
    "tags": []
   },
   "source": [
    "## <a id=\"5.2\">Accuracy</a>\n",
    "\n",
    "![image.png](attachment:a9822a1c-aee3-4014-b12c-fd21ac265755.png)"
   ]
  },
  {
   "cell_type": "code",
   "execution_count": 32,
   "id": "939243e0",
   "metadata": {
    "_kg_hide-input": true,
    "papermill": {
     "duration": 0.054791,
     "end_time": "2024-05-14T18:11:45.003399",
     "exception": false,
     "start_time": "2024-05-14T18:11:44.948608",
     "status": "completed"
    },
    "tags": []
   },
   "outputs": [
    {
     "data": {
      "text/plain": [
       "0.8063033486539725"
      ]
     },
     "execution_count": 32,
     "metadata": {},
     "output_type": "execute_result"
    }
   ],
   "source": [
    "accuracy_score(y_pred, y_valid)"
   ]
  },
  {
   "cell_type": "code",
   "execution_count": 34,
   "id": "7408c059",
   "metadata": {
    "_kg_hide-input": false,
    "papermill": {
     "duration": 0.477224,
     "end_time": "2024-05-14T18:11:45.523720",
     "exception": false,
     "start_time": "2024-05-14T18:11:45.046496",
     "status": "completed"
    },
    "tags": []
   },
   "outputs": [
    {
     "data": {
      "text/plain": [
       "<Axes: title={'center': 'Accuracy'}>"
      ]
     },
     "execution_count": 34,
     "metadata": {},
     "output_type": "execute_result"
    },
    {
     "data": {
      "image/png": "[encoded data removed]",
      "text/plain": [
       "<Figure size 640x480 with 1 Axes>"
      ]
     },
     "metadata": {},
     "output_type": "display_data"
    }
   ],
   "source": [
    "history_df = pd.DataFrame(history.history)\n",
    "history_df.loc[:, ['accuracy', 'val_accuracy']].plot(title=\"Accuracy\")"
   ]
  },
  {
   "attachments": {
    "979dce22-16ac-4bbb-ac96-dc5958a068e3.png": {
     "image/png": "[encoded data removed]"
    }
   },
   "cell_type": "markdown",
   "id": "3e448160",
   "metadata": {
    "papermill": {
     "duration": 0.043686,
     "end_time": "2024-05-14T18:11:45.611713",
     "exception": false,
     "start_time": "2024-05-14T18:11:45.568027",
     "status": "completed"
    },
    "tags": []
   },
   "source": [
    "## <a id=\"5.3\">Precision</a>\n",
    "\n",
    "![image.png](attachment:979dce22-16ac-4bbb-ac96-dc5958a068e3.png)"
   ]
  },
  {
   "cell_type": "code",
   "execution_count": 37,
   "id": "59b0a85b",
   "metadata": {
    "_kg_hide-input": true,
    "papermill": {
     "duration": 0.058879,
     "end_time": "2024-05-14T18:11:45.714453",
     "exception": false,
     "start_time": "2024-05-14T18:11:45.655574",
     "status": "completed"
    },
    "tags": []
   },
   "outputs": [
    {
     "data": {
      "text/plain": [
       "0.75"
      ]
     },
     "execution_count": 37,
     "metadata": {},
     "output_type": "execute_result"
    }
   ],
   "source": [
    "precision_score(y_pred, y_valid)"
   ]
  },
  {
   "attachments": {
    "0b24f04d-0419-45a3-88f8-e307590689c2.png": {
     "image/png": "[encoded data removed]"
    }
   },
   "cell_type": "markdown",
   "id": "b23c12da",
   "metadata": {
    "papermill": {
     "duration": 0.04384,
     "end_time": "2024-05-14T18:11:45.804173",
     "exception": false,
     "start_time": "2024-05-14T18:11:45.760333",
     "status": "completed"
    },
    "tags": []
   },
   "source": [
    "## <a id=\"5.4\">Recall</a>\n",
    "\n",
    "![image.png](attachment:0b24f04d-0419-45a3-88f8-e307590689c2.png)"
   ]
  },
  {
   "cell_type": "code",
   "execution_count": 40,
   "id": "ab3e7636",
   "metadata": {
    "_kg_hide-input": true,
    "papermill": {
     "duration": 0.059532,
     "end_time": "2024-05-14T18:11:45.908444",
     "exception": false,
     "start_time": "2024-05-14T18:11:45.848912",
     "status": "completed"
    },
    "tags": []
   },
   "outputs": [
    {
     "data": {
      "text/plain": [
       "0.7897271268057785"
      ]
     },
     "execution_count": 40,
     "metadata": {},
     "output_type": "execute_result"
    }
   ],
   "source": [
    "recall_score(y_pred, y_valid)"
   ]
  },
  {
   "attachments": {
    "d765e6f2-e6ea-4f17-ad90-df1882f69cb8.png": {
     "image/png": "[encoded data removed]"
    }
   },
   "cell_type": "markdown",
   "id": "658497fb",
   "metadata": {
    "papermill": {
     "duration": 0.044154,
     "end_time": "2024-05-14T18:11:45.997106",
     "exception": false,
     "start_time": "2024-05-14T18:11:45.952952",
     "status": "completed"
    },
    "tags": []
   },
   "source": [
    "## <a id=\"5.5\">F1 Score</a>\n",
    "\n",
    "![image.png](attachment:d765e6f2-e6ea-4f17-ad90-df1882f69cb8.png)"
   ]
  },
  {
   "cell_type": "code",
   "execution_count": 43,
   "id": "1f766f62",
   "metadata": {
    "_kg_hide-input": true,
    "papermill": {
     "duration": 0.058015,
     "end_time": "2024-05-14T18:11:46.099828",
     "exception": false,
     "start_time": "2024-05-14T18:11:46.041813",
     "status": "completed"
    },
    "tags": []
   },
   "outputs": [
    {
     "data": {
      "text/plain": [
       "0.7693510555121188"
      ]
     },
     "execution_count": 43,
     "metadata": {},
     "output_type": "execute_result"
    }
   ],
   "source": [
    "f1_score(y_pred, y_valid)"
   ]
  },
  {
   "cell_type": "markdown",
   "id": "5aa19822",
   "metadata": {
    "papermill": {
     "duration": 0.043815,
     "end_time": "2024-05-14T18:11:46.188537",
     "exception": false,
     "start_time": "2024-05-14T18:11:46.144722",
     "status": "completed"
    },
    "tags": []
   },
   "source": [
    "# <a id=\"6\">Predictions</a>\n",
    "\n",
    "We will create a new model and fit it with all train data. However, before doing so again, we need to use Tokenizer."
   ]
  },
  {
   "cell_type": "code",
   "execution_count": 46,
   "id": "078bd685",
   "metadata": {
    "_kg_hide-input": true,
    "papermill": {
     "duration": 0.879484,
     "end_time": "2024-05-14T18:11:47.112478",
     "exception": false,
     "start_time": "2024-05-14T18:11:46.232994",
     "status": "completed"
    },
    "tags": []
   },
   "outputs": [],
   "source": [
    "l =50\n",
    "max_features=5000\n",
    "tokenizer=Tokenizer(num_words=max_features,split=' ')\n",
    "tokenizer.fit_on_texts(train['text'].values)\n",
    "X = tokenizer.texts_to_sequences(train['text'].values)\n",
    "X = pad_sequences(X, maxlen =l)\n",
    "\n",
    "tokenizer.fit_on_texts(train['text'].values)\n",
    "X_test = tokenizer.texts_to_sequences(test['text'].values)\n",
    "X_test = pad_sequences(X_test, maxlen =l)"
   ]
  },
  {
   "cell_type": "code",
   "execution_count": 48,
   "id": "ea1099fa",
   "metadata": {
    "_kg_hide-input": true,
    "papermill": {
     "duration": 0.753058,
     "end_time": "2024-05-14T18:11:47.911209",
     "exception": false,
     "start_time": "2024-05-14T18:11:47.158151",
     "status": "completed"
    },
    "tags": []
   },
   "outputs": [],
   "source": [
    "model = Sequential([\n",
    "    Embedding(max_features, 32, input_length = X.shape[1]),\n",
    "    Dropout(0.2),\n",
    "    Bidirectional(LSTM(100, dropout=0.2, return_sequences=True,recurrent_dropout=0.4)),\n",
    "    Dropout(0.2),\n",
    "    Bidirectional(LSTM(100, dropout=0.2, return_sequences=False,recurrent_dropout=0.4)),\n",
    "    Dropout(0.2),\n",
    "    Dense(1,activation='sigmoid'),\n",
    "])\n",
    "\n",
    "adam = optimizers.Adam(learning_rate=2e-3)\n",
    "model.compile(loss = 'binary_crossentropy', optimizer=adam ,metrics = ['accuracy'])"
   ]
  },
  {
   "cell_type": "code",
   "execution_count": 50,
   "id": "cb48ef4a",
   "metadata": {
    "_kg_hide-input": true,
    "papermill": {
     "duration": 99.580409,
     "end_time": "2024-05-14T18:13:27.536085",
     "exception": false,
     "start_time": "2024-05-14T18:11:47.955676",
     "status": "completed"
    },
    "tags": []
   },
   "outputs": [
    {
     "name": "stdout",
     "output_type": "stream",
     "text": [
      "Epoch 1/10\n",
      "96/96 [==============================] - 98s 949ms/step - loss: 0.5572 - accuracy: 0.7144 - val_loss: 0.4751 - val_accuracy: 0.7702\n",
      "Epoch 2/10\n",
      "96/96 [==============================] - 96s 1s/step - loss: 0.3733 - accuracy: 0.8470 - val_loss: 0.4425 - val_accuracy: 0.8070\n",
      "Epoch 3/10\n",
      "96/96 [==============================] - 112s 1s/step - loss: 0.2907 - accuracy: 0.8865 - val_loss: 0.4964 - val_accuracy: 0.7833\n",
      "Epoch 4/10\n",
      "96/96 [==============================] - 109s 1s/step - loss: 0.2523 - accuracy: 0.9069 - val_loss: 0.5180 - val_accuracy: 0.7715\n"
     ]
    },
    {
     "data": {
      "text/plain": [
       "<keras.callbacks.History at 0x71b9045e9150>"
      ]
     },
     "execution_count": 50,
     "metadata": {},
     "output_type": "execute_result"
    }
   ],
   "source": [
    "early_stopping = keras.callbacks.EarlyStopping(\n",
    "    monitor='val_loss',\n",
    "    patience=2,\n",
    "    min_delta=0.001,\n",
    "    restore_best_weights=True,\n",
    ")\n",
    "\n",
    "model.fit(X, y, epochs = 10,validation_split = 0.2 ,callbacks=[early_stopping], batch_size=64)"
   ]
  },
  {
   "cell_type": "code",
   "execution_count": 51,
   "id": "2c5e75da",
   "metadata": {
    "papermill": {
     "duration": 4.570151,
     "end_time": "2024-05-14T18:13:32.177545",
     "exception": false,
     "start_time": "2024-05-14T18:13:27.607394",
     "status": "completed"
    },
    "tags": []
   },
   "outputs": [
    {
     "name": "stdout",
     "output_type": "stream",
     "text": [
      "102/102 [==============================] - 16s 147ms/step\n",
      "Shape of predictions: (3263, 1)\n"
     ]
    }
   ],
   "source": [
    "predictions = model.predict(X_test).round()\n",
    "print(\"Shape of predictions:\", predictions.shape)"
   ]
  },
  {
   "cell_type": "code",
   "execution_count": null,
   "id": "03988304",
   "metadata": {
    "_kg_hide-input": true,
    "papermill": {
     "duration": 3.646366,
     "end_time": "2024-05-14T18:13:35.901710",
     "exception": false,
     "start_time": "2024-05-14T18:13:32.255344",
     "status": "completed"
    },
    "tags": []
   },
   "outputs": [
    {
     "name": "stdout",
     "output_type": "stream",
     "text": [
      " 28/102 [=======>......................] - ETA: 8s"
     ]
    }
   ],
   "source": [
    "predictions = model.predict(X_test).round()\n",
    "submission = pd.read_csv(\"/kaggle/input/nlp-getting-started/sample_submission.csv\")\n",
    "submission['target'] = np.round(predictions).astype('int')\n",
    "submission.to_csv('submission.csv', index=False)"
   ]
  },
  {
   "cell_type": "code",
   "execution_count": 22,
   "id": "e257830f",
   "metadata": {
    "execution": {
     "iopub.execute_input": "2024-05-14T18:13:36.067408Z",
     "iopub.status.busy": "2024-05-14T18:13:36.067001Z",
     "iopub.status.idle": "2024-05-14T18:13:36.082758Z",
     "shell.execute_reply": "2024-05-14T18:13:36.081663Z"
    },
    "papermill": {
     "duration": 0.102011,
     "end_time": "2024-05-14T18:13:36.085103",
     "exception": false,
     "start_time": "2024-05-14T18:13:35.983092",
     "status": "completed"
    },
    "tags": []
   },
   "outputs": [
    {
     "data": {
      "text/html": [
       "<div>\n",
       "<style scoped>\n",
       "    .dataframe tbody tr th:only-of-type {\n",
       "        vertical-align: middle;\n",
       "    }\n",
       "\n",
       "    .dataframe tbody tr th {\n",
       "        vertical-align: top;\n",
       "    }\n",
       "\n",
       "    .dataframe thead th {\n",
       "        text-align: right;\n",
       "    }\n",
       "</style>\n",
       "<table border=\"1\" class=\"dataframe\">\n",
       "  <thead>\n",
       "    <tr style=\"text-align: right;\">\n",
       "      <th></th>\n",
       "      <th>id</th>\n",
       "      <th>target</th>\n",
       "    </tr>\n",
       "  </thead>\n",
       "  <tbody>\n",
       "    <tr>\n",
       "      <th>0</th>\n",
       "      <td>0</td>\n",
       "      <td>0</td>\n",
       "    </tr>\n",
       "    <tr>\n",
       "      <th>1</th>\n",
       "      <td>2</td>\n",
       "      <td>1</td>\n",
       "    </tr>\n",
       "    <tr>\n",
       "      <th>2</th>\n",
       "      <td>3</td>\n",
       "      <td>1</td>\n",
       "    </tr>\n",
       "    <tr>\n",
       "      <th>3</th>\n",
       "      <td>9</td>\n",
       "      <td>0</td>\n",
       "    </tr>\n",
       "    <tr>\n",
       "      <th>4</th>\n",
       "      <td>11</td>\n",
       "      <td>1</td>\n",
       "    </tr>\n",
       "    <tr>\n",
       "      <th>...</th>\n",
       "      <td>...</td>\n",
       "      <td>...</td>\n",
       "    </tr>\n",
       "    <tr>\n",
       "      <th>3258</th>\n",
       "      <td>10861</td>\n",
       "      <td>1</td>\n",
       "    </tr>\n",
       "    <tr>\n",
       "      <th>3259</th>\n",
       "      <td>10865</td>\n",
       "      <td>1</td>\n",
       "    </tr>\n",
       "    <tr>\n",
       "      <th>3260</th>\n",
       "      <td>10868</td>\n",
       "      <td>1</td>\n",
       "    </tr>\n",
       "    <tr>\n",
       "      <th>3261</th>\n",
       "      <td>10874</td>\n",
       "      <td>1</td>\n",
       "    </tr>\n",
       "    <tr>\n",
       "      <th>3262</th>\n",
       "      <td>10875</td>\n",
       "      <td>0</td>\n",
       "    </tr>\n",
       "  </tbody>\n",
       "</table>\n",
       "<p>3263 rows × 2 columns</p>\n",
       "</div>"
      ],
      "text/plain": [
       "         id  target\n",
       "0         0       0\n",
       "1         2       1\n",
       "2         3       1\n",
       "3         9       0\n",
       "4        11       1\n",
       "...     ...     ...\n",
       "3258  10861       1\n",
       "3259  10865       1\n",
       "3260  10868       1\n",
       "3261  10874       1\n",
       "3262  10875       0\n",
       "\n",
       "[3263 rows x 2 columns]"
      ]
     },
     "execution_count": 22,
     "metadata": {},
     "output_type": "execute_result"
    }
   ],
   "source": [
    "submission"
   ]
  }
 ],
 "metadata": {
  "kaggle": {
   "accelerator": "none",
   "dataSources": [
    {
     "databundleVersionId": 869809,
     "sourceId": 17777,
     "sourceType": "competition"
    }
   ],
   "dockerImageVersionId": 30615,
   "isGpuEnabled": false,
   "isInternetEnabled": true,
   "language": "python",
   "sourceType": "notebook"
  },
  "kernelspec": {
   "display_name": "Python 3 (ipykernel)",
   "language": "python",
   "name": "python3"
  },
  "language_info": {
   "codemirror_mode": {
    "name": "ipython",
    "version": 3
   },
   "file_extension": ".py",
   "mimetype": "text/x-python",
   "name": "python",
   "nbconvert_exporter": "python",
   "pygments_lexer": "ipython3",
   "version": "3.11.5"
  },
  "papermill": {
   "default_parameters": {},
   "duration": 168.986135,
   "end_time": "2024-05-14T18:13:39.375013",
   "environment_variables": {},
   "exception": null,
   "input_path": "__notebook__.ipynb",
   "output_path": "__notebook__.ipynb",
   "parameters": {},
   "start_time": "2024-05-14T18:10:50.388878",
   "version": "2.4.0"
  }
 },
 "nbformat": 4,
 "nbformat_minor": 5
}
