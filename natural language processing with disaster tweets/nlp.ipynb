{
 "cells": [
  {
   "cell_type": "code",
   "execution_count": 1,
   "id": "a6a53242",
   "metadata": {},
   "outputs": [],
   "source": [
    "import numpy as np\n",
    "import pandas as pd"
   ]
  },
  {
   "cell_type": "code",
   "execution_count": 2,
   "id": "99a0b796",
   "metadata": {},
   "outputs": [],
   "source": [
    "train=pd.read_csv(\"train.csv\")\n",
    "test=pd.read_csv(\"test.csv\")"
   ]
  },
  {
   "cell_type": "code",
   "execution_count": 3,
   "id": "756e2234",
   "metadata": {},
   "outputs": [
    {
     "data": {
      "text/html": [
       "<div>\n",
       "<style scoped>\n",
       "    .dataframe tbody tr th:only-of-type {\n",
       "        vertical-align: middle;\n",
       "    }\n",
       "\n",
       "    .dataframe tbody tr th {\n",
       "        vertical-align: top;\n",
       "    }\n",
       "\n",
       "    .dataframe thead th {\n",
       "        text-align: right;\n",
       "    }\n",
       "</style>\n",
       "<table border=\"1\" class=\"dataframe\">\n",
       "  <thead>\n",
       "    <tr style=\"text-align: right;\">\n",
       "      <th></th>\n",
       "      <th>id</th>\n",
       "      <th>keyword</th>\n",
       "      <th>location</th>\n",
       "      <th>text</th>\n",
       "      <th>target</th>\n",
       "    </tr>\n",
       "  </thead>\n",
       "  <tbody>\n",
       "    <tr>\n",
       "      <th>0</th>\n",
       "      <td>1</td>\n",
       "      <td>NaN</td>\n",
       "      <td>NaN</td>\n",
       "      <td>Our Deeds are the Reason of this #earthquake M...</td>\n",
       "      <td>1</td>\n",
       "    </tr>\n",
       "    <tr>\n",
       "      <th>1</th>\n",
       "      <td>4</td>\n",
       "      <td>NaN</td>\n",
       "      <td>NaN</td>\n",
       "      <td>Forest fire near La Ronge Sask. Canada</td>\n",
       "      <td>1</td>\n",
       "    </tr>\n",
       "    <tr>\n",
       "      <th>2</th>\n",
       "      <td>5</td>\n",
       "      <td>NaN</td>\n",
       "      <td>NaN</td>\n",
       "      <td>All residents asked to 'shelter in place' are ...</td>\n",
       "      <td>1</td>\n",
       "    </tr>\n",
       "    <tr>\n",
       "      <th>3</th>\n",
       "      <td>6</td>\n",
       "      <td>NaN</td>\n",
       "      <td>NaN</td>\n",
       "      <td>13,000 people receive #wildfires evacuation or...</td>\n",
       "      <td>1</td>\n",
       "    </tr>\n",
       "    <tr>\n",
       "      <th>4</th>\n",
       "      <td>7</td>\n",
       "      <td>NaN</td>\n",
       "      <td>NaN</td>\n",
       "      <td>Just got sent this photo from Ruby #Alaska as ...</td>\n",
       "      <td>1</td>\n",
       "    </tr>\n",
       "  </tbody>\n",
       "</table>\n",
       "</div>"
      ],
      "text/plain": [
       "   id keyword location                                               text  \\\n",
       "0   1     NaN      NaN  Our Deeds are the Reason of this #earthquake M...   \n",
       "1   4     NaN      NaN             Forest fire near La Ronge Sask. Canada   \n",
       "2   5     NaN      NaN  All residents asked to 'shelter in place' are ...   \n",
       "3   6     NaN      NaN  13,000 people receive #wildfires evacuation or...   \n",
       "4   7     NaN      NaN  Just got sent this photo from Ruby #Alaska as ...   \n",
       "\n",
       "   target  \n",
       "0       1  \n",
       "1       1  \n",
       "2       1  \n",
       "3       1  \n",
       "4       1  "
      ]
     },
     "execution_count": 3,
     "metadata": {},
     "output_type": "execute_result"
    }
   ],
   "source": [
    "train.head()"
   ]
  },
  {
   "cell_type": "code",
   "execution_count": 4,
   "id": "b1d11b81",
   "metadata": {},
   "outputs": [],
   "source": [
    "#converting into lowercase \n",
    "train[\"keyword\"]=train[\"keyword\"].apply(lambda x:str.lower(x) if pd.isna(x)!=True else x)\n",
    "train[\"location\"]=train[\"location\"].apply(lambda x:str.lower(x) if pd.isna(x)!=True else x)\n",
    "train[\"text\"]=train[\"text\"].apply(lambda x:str.lower(x) if pd.isna(x)!=True else x)\n",
    "test[\"keyword\"]=test[\"keyword\"].apply(lambda x:str.lower(x) if pd.isna(x)!=True else x)\n",
    "test[\"location\"]=test[\"location\"].apply(lambda x:str.lower(x) if pd.isna(x)!=True else x)\n",
    "test[\"text\"]=test[\"text\"].apply(lambda x:str.lower(x) if pd.isna(x)!=True else x)"
   ]
  },
  {
   "cell_type": "code",
   "execution_count": 5,
   "id": "eb3ea891",
   "metadata": {},
   "outputs": [],
   "source": [
    "import re, string\n",
    "def remove_entities(text):\n",
    "    entity_prefixes=['@','#']\n",
    "    \n",
    "    words=[]\n",
    "    for word in text.split():\n",
    "        word = word.strip()\n",
    "        if word[0] not in entity_prefixes:\n",
    "            words.append(word)\n",
    "    return ' '.join(words)"
   ]
  },
  {
   "cell_type": "code",
   "execution_count": 6,
   "id": "8d49cdfb",
   "metadata": {},
   "outputs": [],
   "source": [
    "#removing @ and # using above function\n",
    "train[\"keyword\"]=train[\"keyword\"].apply(lambda x:remove_entities(x) if pd.isna(x)!=True else x)\n",
    "train[\"location\"]=train[\"location\"].apply(lambda x:remove_entities(x) if pd.isna(x)!=True else x)\n",
    "train[\"text\"]=train[\"text\"].apply(lambda x:remove_entities(x) if pd.isna(x)!=True else x)\n",
    "test[\"keyword\"]=test[\"keyword\"].apply(lambda x:remove_entities(x) if pd.isna(x)!=True else x)\n",
    "test[\"location\"]=test[\"location\"].apply(lambda x:remove_entities(x) if pd.isna(x)!=True else x)\n",
    "test[\"text\"]=test[\"text\"].apply(lambda x:remove_entities(x) if pd.isna(x)!=True else x)"
   ]
  },
  {
   "cell_type": "code",
   "execution_count": 7,
   "id": "a2ccba40",
   "metadata": {},
   "outputs": [],
   "source": [
    "#text converted into string\n",
    "train[\"keyword\"]=train[\"keyword\"].apply(str)\n",
    "train[\"location\"]=train[\"location\"].apply(str)\n",
    "train[\"text\"]=train[\"text\"].apply(str)\n",
    "test[\"keyword\"]=test[\"keyword\"].apply(str)\n",
    "test[\"location\"]=test[\"location\"].apply(str)\n",
    "test[\"text\"]=test[\"text\"].apply(str)"
   ]
  },
  {
   "cell_type": "code",
   "execution_count": 8,
   "id": "b3b76036",
   "metadata": {},
   "outputs": [],
   "source": [
    "#removing links\n",
    "train[\"keyword\"]=train[\"keyword\"].apply(lambda x:re.sub(r\"(http|www)\\S+\" , ' ' , x) if pd.isna!=True else x)\n",
    "train[\"location\"]=train[\"location\"].apply(lambda x:re.sub(r\"(http|www)\\S+\" , ' ' , x) if pd.isna!=True else x)\n",
    "train[\"text\"]=train[\"text\"].apply(lambda x:re.sub(r\"(http|www)\\S+\" , ' ' , x) if pd.isna!=True else x)\n",
    "test[\"keyword\"]=test[\"keyword\"].apply(lambda x:re.sub(r\"(http|www)\\S+\" , ' ' , x) if pd.isna!=True else x)\n",
    "test[\"location\"]=test[\"location\"].apply(lambda x:re.sub(r\"(http|www)\\S+\" , ' ' , x) if pd.isna!=True else x)\n",
    "test[\"text\"]=test[\"text\"].apply(lambda x:re.sub(r\"(http|www)\\S+\" , ' ' , x) if pd.isna!=True else x)"
   ]
  },
  {
   "cell_type": "code",
   "execution_count": 9,
   "id": "6305d818",
   "metadata": {},
   "outputs": [
    {
     "data": {
      "text/plain": [
       "(7613, 5)"
      ]
     },
     "execution_count": 9,
     "metadata": {},
     "output_type": "execute_result"
    }
   ],
   "source": [
    "train.shape"
   ]
  },
  {
   "cell_type": "code",
   "execution_count": 10,
   "id": "e6f9b722",
   "metadata": {},
   "outputs": [
    {
     "data": {
      "text/html": [
       "<div>\n",
       "<style scoped>\n",
       "    .dataframe tbody tr th:only-of-type {\n",
       "        vertical-align: middle;\n",
       "    }\n",
       "\n",
       "    .dataframe tbody tr th {\n",
       "        vertical-align: top;\n",
       "    }\n",
       "\n",
       "    .dataframe thead th {\n",
       "        text-align: right;\n",
       "    }\n",
       "</style>\n",
       "<table border=\"1\" class=\"dataframe\">\n",
       "  <thead>\n",
       "    <tr style=\"text-align: right;\">\n",
       "      <th></th>\n",
       "      <th>id</th>\n",
       "      <th>keyword</th>\n",
       "      <th>location</th>\n",
       "      <th>text</th>\n",
       "      <th>target</th>\n",
       "    </tr>\n",
       "  </thead>\n",
       "  <tbody>\n",
       "    <tr>\n",
       "      <th>0</th>\n",
       "      <td>1</td>\n",
       "      <td>nan</td>\n",
       "      <td>nan</td>\n",
       "      <td>our deeds are the reason of this may allah for...</td>\n",
       "      <td>1</td>\n",
       "    </tr>\n",
       "    <tr>\n",
       "      <th>1</th>\n",
       "      <td>4</td>\n",
       "      <td>nan</td>\n",
       "      <td>nan</td>\n",
       "      <td>forest fire near la ronge sask. canada</td>\n",
       "      <td>1</td>\n",
       "    </tr>\n",
       "    <tr>\n",
       "      <th>2</th>\n",
       "      <td>5</td>\n",
       "      <td>nan</td>\n",
       "      <td>nan</td>\n",
       "      <td>all residents asked to 'shelter in place' are ...</td>\n",
       "      <td>1</td>\n",
       "    </tr>\n",
       "    <tr>\n",
       "      <th>3</th>\n",
       "      <td>6</td>\n",
       "      <td>nan</td>\n",
       "      <td>nan</td>\n",
       "      <td>13,000 people receive evacuation orders in cal...</td>\n",
       "      <td>1</td>\n",
       "    </tr>\n",
       "    <tr>\n",
       "      <th>4</th>\n",
       "      <td>7</td>\n",
       "      <td>nan</td>\n",
       "      <td>nan</td>\n",
       "      <td>just got sent this photo from ruby as smoke fr...</td>\n",
       "      <td>1</td>\n",
       "    </tr>\n",
       "  </tbody>\n",
       "</table>\n",
       "</div>"
      ],
      "text/plain": [
       "   id keyword location                                               text  \\\n",
       "0   1     nan      nan  our deeds are the reason of this may allah for...   \n",
       "1   4     nan      nan             forest fire near la ronge sask. canada   \n",
       "2   5     nan      nan  all residents asked to 'shelter in place' are ...   \n",
       "3   6     nan      nan  13,000 people receive evacuation orders in cal...   \n",
       "4   7     nan      nan  just got sent this photo from ruby as smoke fr...   \n",
       "\n",
       "   target  \n",
       "0       1  \n",
       "1       1  \n",
       "2       1  \n",
       "3       1  \n",
       "4       1  "
      ]
     },
     "execution_count": 10,
     "metadata": {},
     "output_type": "execute_result"
    }
   ],
   "source": [
    "train.head()"
   ]
  },
  {
   "cell_type": "code",
   "execution_count": null,
   "id": "f69a56ed",
   "metadata": {},
   "outputs": [],
   "source": []
  },
  {
   "cell_type": "code",
   "execution_count": null,
   "id": "acd6d5e0-b8af-47d7-81b5-d258e158f287",
   "metadata": {},
   "outputs": [],
   "source": []
  },
  {
   "cell_type": "code",
   "execution_count": null,
   "id": "5a11971d-70ce-4e10-afb2-f54636e8e4ef",
   "metadata": {},
   "outputs": [],
   "source": []
  }
 ],
 "metadata": {
  "kernelspec": {
   "display_name": "Python 3 (ipykernel)",
   "language": "python",
   "name": "python3"
  },
  "language_info": {
   "codemirror_mode": {
    "name": "ipython",
    "version": 3
   },
   "file_extension": ".py",
   "mimetype": "text/x-python",
   "name": "python",
   "nbconvert_exporter": "python",
   "pygments_lexer": "ipython3",
   "version": "3.11.5"
  }
 },
 "nbformat": 4,
 "nbformat_minor": 5
}
