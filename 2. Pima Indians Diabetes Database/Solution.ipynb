{
 "cells": [
  {
   "cell_type": "code",
   "execution_count": 2,
   "id": "45341e9e-0635-411e-8f1a-9bba87b6963e",
   "metadata": {},
   "outputs": [],
   "source": [
    "import numpy as np\n",
    "import pandas as pd"
   ]
  },
  {
   "cell_type": "code",
   "execution_count": 4,
   "id": "6789349e-a2ff-4b05-8e39-cdf703890ec9",
   "metadata": {},
   "outputs": [],
   "source": [
    "data=pd.read_csv('diabetes.csv')"
   ]
  },
  {
   "cell_type": "code",
   "execution_count": 6,
   "id": "bb28cec2-760f-4423-b793-15cb380ec889",
   "metadata": {},
   "outputs": [],
   "source": [
    "totalrows=data.shape[0]"
   ]
  },
  {
   "cell_type": "code",
   "execution_count": 8,
   "id": "d0e406a9-75d4-414f-a28d-cfababe49834",
   "metadata": {},
   "outputs": [],
   "source": [
    "traindatasize=int(totalrows*.75)"
   ]
  },
  {
   "cell_type": "code",
   "execution_count": 10,
   "id": "d2b8633f-81ea-44e3-a796-e9e8cc414efa",
   "metadata": {},
   "outputs": [
    {
     "name": "stdout",
     "output_type": "stream",
     "text": [
      "768\n"
     ]
    }
   ],
   "source": [
    "print(totalrows)"
   ]
  },
  {
   "cell_type": "code",
   "execution_count": 12,
   "id": "7cd015ba-9888-4e34-9480-e31aafc4ef5d",
   "metadata": {},
   "outputs": [
    {
     "name": "stdout",
     "output_type": "stream",
     "text": [
      "576\n"
     ]
    }
   ],
   "source": [
    "print(traindatasize)"
   ]
  },
  {
   "cell_type": "code",
   "execution_count": 14,
   "id": "7c653e0f-f7bc-4e99-8783-421994a76a09",
   "metadata": {},
   "outputs": [],
   "source": [
    "train=data[0:traindatasize]\n",
    "test=data[traindatasize:]"
   ]
  },
  {
   "cell_type": "code",
   "execution_count": 16,
   "id": "25250da3-18be-4b93-a449-2b25d30ffbbb",
   "metadata": {},
   "outputs": [
    {
     "data": {
      "text/html": [
       "<div>\n",
       "<style scoped>\n",
       "    .dataframe tbody tr th:only-of-type {\n",
       "        vertical-align: middle;\n",
       "    }\n",
       "\n",
       "    .dataframe tbody tr th {\n",
       "        vertical-align: top;\n",
       "    }\n",
       "\n",
       "    .dataframe thead th {\n",
       "        text-align: right;\n",
       "    }\n",
       "</style>\n",
       "<table border=\"1\" class=\"dataframe\">\n",
       "  <thead>\n",
       "    <tr style=\"text-align: right;\">\n",
       "      <th></th>\n",
       "      <th>Pregnancies</th>\n",
       "      <th>Glucose</th>\n",
       "      <th>BloodPressure</th>\n",
       "      <th>SkinThickness</th>\n",
       "      <th>Insulin</th>\n",
       "      <th>BMI</th>\n",
       "      <th>DiabetesPedigreeFunction</th>\n",
       "      <th>Age</th>\n",
       "      <th>Outcome</th>\n",
       "    </tr>\n",
       "  </thead>\n",
       "  <tbody>\n",
       "    <tr>\n",
       "      <th>0</th>\n",
       "      <td>6</td>\n",
       "      <td>148</td>\n",
       "      <td>72</td>\n",
       "      <td>35</td>\n",
       "      <td>0</td>\n",
       "      <td>33.6</td>\n",
       "      <td>0.627</td>\n",
       "      <td>50</td>\n",
       "      <td>1</td>\n",
       "    </tr>\n",
       "    <tr>\n",
       "      <th>1</th>\n",
       "      <td>1</td>\n",
       "      <td>85</td>\n",
       "      <td>66</td>\n",
       "      <td>29</td>\n",
       "      <td>0</td>\n",
       "      <td>26.6</td>\n",
       "      <td>0.351</td>\n",
       "      <td>31</td>\n",
       "      <td>0</td>\n",
       "    </tr>\n",
       "    <tr>\n",
       "      <th>2</th>\n",
       "      <td>8</td>\n",
       "      <td>183</td>\n",
       "      <td>64</td>\n",
       "      <td>0</td>\n",
       "      <td>0</td>\n",
       "      <td>23.3</td>\n",
       "      <td>0.672</td>\n",
       "      <td>32</td>\n",
       "      <td>1</td>\n",
       "    </tr>\n",
       "    <tr>\n",
       "      <th>3</th>\n",
       "      <td>1</td>\n",
       "      <td>89</td>\n",
       "      <td>66</td>\n",
       "      <td>23</td>\n",
       "      <td>94</td>\n",
       "      <td>28.1</td>\n",
       "      <td>0.167</td>\n",
       "      <td>21</td>\n",
       "      <td>0</td>\n",
       "    </tr>\n",
       "    <tr>\n",
       "      <th>4</th>\n",
       "      <td>0</td>\n",
       "      <td>137</td>\n",
       "      <td>40</td>\n",
       "      <td>35</td>\n",
       "      <td>168</td>\n",
       "      <td>43.1</td>\n",
       "      <td>2.288</td>\n",
       "      <td>33</td>\n",
       "      <td>1</td>\n",
       "    </tr>\n",
       "  </tbody>\n",
       "</table>\n",
       "</div>"
      ],
      "text/plain": [
       "   Pregnancies  Glucose  BloodPressure  SkinThickness  Insulin   BMI  \\\n",
       "0            6      148             72             35        0  33.6   \n",
       "1            1       85             66             29        0  26.6   \n",
       "2            8      183             64              0        0  23.3   \n",
       "3            1       89             66             23       94  28.1   \n",
       "4            0      137             40             35      168  43.1   \n",
       "\n",
       "   DiabetesPedigreeFunction  Age  Outcome  \n",
       "0                     0.627   50        1  \n",
       "1                     0.351   31        0  \n",
       "2                     0.672   32        1  \n",
       "3                     0.167   21        0  \n",
       "4                     2.288   33        1  "
      ]
     },
     "execution_count": 16,
     "metadata": {},
     "output_type": "execute_result"
    }
   ],
   "source": [
    "train.head()"
   ]
  },
  {
   "cell_type": "code",
   "execution_count": 18,
   "id": "a88865e8-df33-40c9-9fef-26a28f02155a",
   "metadata": {},
   "outputs": [],
   "source": [
    "trainx=train.drop('Outcome',axis=1)\n",
    "trainy=train['Outcome']\n",
    "testx=test.drop('Outcome',axis=1)\n",
    "testy=test['Outcome']"
   ]
  },
  {
   "cell_type": "code",
   "execution_count": 20,
   "id": "e652b888-0e33-448d-a1e4-1de57a418587",
   "metadata": {},
   "outputs": [],
   "source": [
    "from sklearn import datasets, linear_model, metrics"
   ]
  },
  {
   "cell_type": "code",
   "execution_count": 22,
   "id": "d444e15d-cd1c-4ad5-83d5-080605006cb8",
   "metadata": {},
   "outputs": [],
   "source": [
    "reg = linear_model.LogisticRegression(max_iter=10000, random_state=0)\n",
    "reg.fit(trainx, trainy)\n",
    "\n",
    "y_pred = reg.predict(testx)"
   ]
  },
  {
   "cell_type": "code",
   "execution_count": 24,
   "id": "9de5f2e8-fb5e-4d08-8e74-122ebfeadb11",
   "metadata": {},
   "outputs": [],
   "source": [
    "from sklearn.metrics import mean_absolute_error,mean_squared_error,"
   ]
  },
  {
   "cell_type": "code",
   "execution_count": 35,
   "id": "e7f2ce0b-bdee-4648-aadd-f337898fdb12",
   "metadata": {},
   "outputs": [
    {
     "name": "stdout",
     "output_type": "stream",
     "text": [
      "0.20833333333333334\n",
      "0.20833333333333334\n",
      "0.45643546458763845\n",
      "0.7916666666666666\n"
     ]
    },
    {
     "name": "stderr",
     "output_type": "stream",
     "text": [
      "C:\\Users\\DELL\\anaconda3\\Lib\\site-packages\\sklearn\\metrics\\_regression.py:492: FutureWarning: 'squared' is deprecated in version 1.4 and will be removed in 1.6. To calculate the root mean squared error, use the function'root_mean_squared_error'.\n",
      "  warnings.warn(\n"
     ]
    }
   ],
   "source": [
    "mae = mean_absolute_error(testy,y_pred)\n",
    "print(mae)\n",
    "mse = mean_squared_error(testy,y_pred)\n",
    "print(mse)\n",
    "rmse = mean_squared_error(testy,y_pred,squared=False)\n",
    "print(rmse)\n",
    "accuracy = accuracy_score(testy, y_pred)\n",
    "print(accuracy)"
   ]
  },
  {
   "cell_type": "code",
   "execution_count": null,
   "id": "d4984b30-ed1a-4b9e-bed7-dccbd7fadfbc",
   "metadata": {},
   "outputs": [],
   "source": []
  }
 ],
 "metadata": {
  "kernelspec": {
   "display_name": "Python [conda env:base] *",
   "language": "python",
   "name": "conda-base-py"
  },
  "language_info": {
   "codemirror_mode": {
    "name": "ipython",
    "version": 3
   },
   "file_extension": ".py",
   "mimetype": "text/x-python",
   "name": "python",
   "nbconvert_exporter": "python",
   "pygments_lexer": "ipython3",
   "version": "3.12.7"
  }
 },
 "nbformat": 4,
 "nbformat_minor": 5
}
