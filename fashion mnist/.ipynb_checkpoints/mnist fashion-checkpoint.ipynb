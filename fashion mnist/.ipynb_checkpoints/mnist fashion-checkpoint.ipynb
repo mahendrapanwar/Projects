{
 "cells": [
  {
   "cell_type": "code",
   "execution_count": 1,
   "id": "c9c6e451-22a4-456d-8d96-8cbf99ef319d",
   "metadata": {},
   "outputs": [
    {
     "name": "stderr",
     "output_type": "stream",
     "text": [
      "2024-05-30 09:23:18.584629: I tensorflow/core/platform/cpu_feature_guard.cc:182] This TensorFlow binary is optimized to use available CPU instructions in performance-critical operations.\n",
      "To enable the following instructions: SSE4.1 SSE4.2 AVX AVX2 AVX512F AVX512_VNNI FMA, in other operations, rebuild TensorFlow with the appropriate compiler flags.\n"
     ]
    }
   ],
   "source": [
    "import tensorflow as tf\n",
    "from tensorflow import keras"
   ]
  },
  {
   "cell_type": "code",
   "execution_count": 2,
   "id": "42829105-232f-4ff2-a4cc-5a78c86b057b",
   "metadata": {},
   "outputs": [],
   "source": [
    "fashion_mnist = keras.datasets.fashion_mnist\n",
    "(X_train_full, y_train_full), (X_test, y_test) =fashion_mnist.load_data()"
   ]
  },
  {
   "cell_type": "code",
   "execution_count": 3,
   "id": "d82ad2ef-f076-452f-9514-fc27e29b7355",
   "metadata": {},
   "outputs": [
    {
     "data": {
      "text/plain": [
       "(60000, 28, 28)"
      ]
     },
     "execution_count": 3,
     "metadata": {},
     "output_type": "execute_result"
    }
   ],
   "source": [
    "X_train_full.shape"
   ]
  },
  {
   "cell_type": "code",
   "execution_count": 4,
   "id": "eccfcd62-5b2f-4023-b2cd-e627b16efe7f",
   "metadata": {},
   "outputs": [
    {
     "data": {
      "text/plain": [
       "dtype('uint8')"
      ]
     },
     "execution_count": 4,
     "metadata": {},
     "output_type": "execute_result"
    }
   ],
   "source": [
    "X_train_full.dtype"
   ]
  },
  {
   "cell_type": "code",
   "execution_count": 5,
   "id": "ac191a53-338e-43a9-b72b-b4e1fa11fc92",
   "metadata": {},
   "outputs": [],
   "source": [
    "X_valid, X_train = X_train_full[:5000] / 255.0, X_train_full[5000:] /255.0\n",
    "y_valid, y_train = y_train_full[:5000], y_train_full[5000:]"
   ]
  },
  {
   "cell_type": "code",
   "execution_count": 6,
   "id": "d99f0ca4-4ee0-4463-b924-2be0c76751ba",
   "metadata": {},
   "outputs": [],
   "source": [
    "class_names = [\"T-shirt/top\", \"Trouser\", \"Pullover\", \"Dress\", \"Coat\",\"Sandal\", \"Shirt\", \"Sneaker\", \"Bag\", \"Ankle boot\"]"
   ]
  },
  {
   "cell_type": "code",
   "execution_count": 7,
   "id": "28c309bf-f05b-4916-8bf9-b42e852375d1",
   "metadata": {},
   "outputs": [
    {
     "data": {
      "text/plain": [
       "'Coat'"
      ]
     },
     "execution_count": 7,
     "metadata": {},
     "output_type": "execute_result"
    }
   ],
   "source": [
    "class_names[y_train[0]]"
   ]
  },
  {
   "cell_type": "code",
   "execution_count": 8,
   "id": "6e6f07e1-7670-49f1-814a-3cb4b403cc37",
   "metadata": {},
   "outputs": [
    {
     "data": {
      "text/plain": [
       "4"
      ]
     },
     "execution_count": 8,
     "metadata": {},
     "output_type": "execute_result"
    }
   ],
   "source": [
    "y_train[0]"
   ]
  },
  {
   "cell_type": "code",
   "execution_count": 9,
   "id": "ed017140-f0c3-442f-8f8f-049f4f1efe80",
   "metadata": {},
   "outputs": [
    {
     "name": "stderr",
     "output_type": "stream",
     "text": [
      "2024-05-30 09:25:12.205966: I tensorflow/core/common_runtime/process_util.cc:146] Creating new thread pool with default inter op setting: 2. Tune using inter_op_parallelism_threads for best performance.\n"
     ]
    }
   ],
   "source": [
    "model = keras.models.Sequential()\n",
    "model.add(keras.layers.Flatten(input_shape=[28, 28]))\n",
    "model.add(keras.layers.Dense(300, activation=\"relu\"))\n",
    "model.add(keras.layers.Dense(100, activation=\"relu\"))\n",
    "model.add(keras.layers.Dense(10, activation=\"softmax\"))"
   ]
  },
  {
   "cell_type": "code",
   "execution_count": 10,
   "id": "4b0f8e03-512e-4e92-aca8-6b2df342b7da",
   "metadata": {},
   "outputs": [
    {
     "name": "stdout",
     "output_type": "stream",
     "text": [
      "Model: \"sequential\"\n",
      "_________________________________________________________________\n",
      " Layer (type)                Output Shape              Param #   \n",
      "=================================================================\n",
      " flatten (Flatten)           (None, 784)               0         \n",
      "                                                                 \n",
      " dense (Dense)               (None, 300)               235500    \n",
      "                                                                 \n",
      " dense_1 (Dense)             (None, 100)               30100     \n",
      "                                                                 \n",
      " dense_2 (Dense)             (None, 10)                1010      \n",
      "                                                                 \n",
      "=================================================================\n",
      "Total params: 266,610\n",
      "Trainable params: 266,610\n",
      "Non-trainable params: 0\n",
      "_________________________________________________________________\n"
     ]
    }
   ],
   "source": [
    "model.summary()"
   ]
  },
  {
   "cell_type": "code",
   "execution_count": 11,
   "id": "d4157ceb-1e72-4c57-bed8-2d33f70b6c7d",
   "metadata": {},
   "outputs": [
    {
     "data": {
      "text/plain": [
       "[<keras.layers.reshaping.flatten.Flatten at 0x775144ee79d0>,\n",
       " <keras.layers.core.dense.Dense at 0x77514f25e490>,\n",
       " <keras.layers.core.dense.Dense at 0x775144ee2010>,\n",
       " <keras.layers.core.dense.Dense at 0x775144f6a550>]"
      ]
     },
     "execution_count": 11,
     "metadata": {},
     "output_type": "execute_result"
    }
   ],
   "source": [
    "model.layers"
   ]
  },
  {
   "cell_type": "code",
   "execution_count": 12,
   "id": "baef86b7",
   "metadata": {},
   "outputs": [],
   "source": [
    "hidden0=model.layers[0]"
   ]
  },
  {
   "cell_type": "code",
   "execution_count": 13,
   "id": "0454f7ac-7a5b-405a-b0ef-40aa17ef7b0e",
   "metadata": {},
   "outputs": [
    {
     "data": {
      "text/plain": [
       "True"
      ]
     },
     "execution_count": 13,
     "metadata": {},
     "output_type": "execute_result"
    }
   ],
   "source": [
    "hidden1 = model.layers[1]\n",
    "model.get_layer('dense') is hidden1"
   ]
  },
  {
   "cell_type": "code",
   "execution_count": 14,
   "id": "bb243ba4-e008-4420-8f4e-b5da0c97494c",
   "metadata": {},
   "outputs": [],
   "source": [
    "weights, biases = hidden1.get_weights()"
   ]
  },
  {
   "cell_type": "code",
   "execution_count": 15,
   "id": "d99b88f8-0ae2-4be2-955e-a8e9a967a2e2",
   "metadata": {},
   "outputs": [
    {
     "data": {
      "text/plain": [
       "array([[ 0.04399896,  0.07382126, -0.05716297, ..., -0.02617696,\n",
       "         0.05569854, -0.06226377],\n",
       "       [-0.03449615, -0.00400925,  0.02799106, ..., -0.00225388,\n",
       "         0.05798882, -0.06265398],\n",
       "       [ 0.05937383, -0.03277414,  0.01448368, ...,  0.03910835,\n",
       "        -0.02590358, -0.03383329],\n",
       "       ...,\n",
       "       [-0.05732935,  0.03240841,  0.06667338, ..., -0.05144802,\n",
       "        -0.00984178, -0.04180222],\n",
       "       [-0.05107053, -0.04575048, -0.01482306, ..., -0.05303606,\n",
       "        -0.06881683,  0.01675536],\n",
       "       [ 0.0017351 ,  0.00777555, -0.05219296, ..., -0.04410682,\n",
       "        -0.04575948, -0.01366813]], dtype=float32)"
      ]
     },
     "execution_count": 15,
     "metadata": {},
     "output_type": "execute_result"
    }
   ],
   "source": [
    "weights"
   ]
  },
  {
   "cell_type": "code",
   "execution_count": 16,
   "id": "84a0bafb-6249-4e4b-ba0b-f8dddadd4ae3",
   "metadata": {},
   "outputs": [
    {
     "data": {
      "text/plain": [
       "(784, 300)"
      ]
     },
     "execution_count": 16,
     "metadata": {},
     "output_type": "execute_result"
    }
   ],
   "source": [
    "weights.shape"
   ]
  },
  {
   "cell_type": "code",
   "execution_count": 17,
   "id": "b0c9eb16",
   "metadata": {},
   "outputs": [
    {
     "data": {
      "text/plain": [
       "array([0., 0., 0., 0., 0., 0., 0., 0., 0., 0., 0., 0., 0., 0., 0., 0., 0.,\n",
       "       0., 0., 0., 0., 0., 0., 0., 0., 0., 0., 0., 0., 0., 0., 0., 0., 0.,\n",
       "       0., 0., 0., 0., 0., 0., 0., 0., 0., 0., 0., 0., 0., 0., 0., 0., 0.,\n",
       "       0., 0., 0., 0., 0., 0., 0., 0., 0., 0., 0., 0., 0., 0., 0., 0., 0.,\n",
       "       0., 0., 0., 0., 0., 0., 0., 0., 0., 0., 0., 0., 0., 0., 0., 0., 0.,\n",
       "       0., 0., 0., 0., 0., 0., 0., 0., 0., 0., 0., 0., 0., 0., 0., 0., 0.,\n",
       "       0., 0., 0., 0., 0., 0., 0., 0., 0., 0., 0., 0., 0., 0., 0., 0., 0.,\n",
       "       0., 0., 0., 0., 0., 0., 0., 0., 0., 0., 0., 0., 0., 0., 0., 0., 0.,\n",
       "       0., 0., 0., 0., 0., 0., 0., 0., 0., 0., 0., 0., 0., 0., 0., 0., 0.,\n",
       "       0., 0., 0., 0., 0., 0., 0., 0., 0., 0., 0., 0., 0., 0., 0., 0., 0.,\n",
       "       0., 0., 0., 0., 0., 0., 0., 0., 0., 0., 0., 0., 0., 0., 0., 0., 0.,\n",
       "       0., 0., 0., 0., 0., 0., 0., 0., 0., 0., 0., 0., 0., 0., 0., 0., 0.,\n",
       "       0., 0., 0., 0., 0., 0., 0., 0., 0., 0., 0., 0., 0., 0., 0., 0., 0.,\n",
       "       0., 0., 0., 0., 0., 0., 0., 0., 0., 0., 0., 0., 0., 0., 0., 0., 0.,\n",
       "       0., 0., 0., 0., 0., 0., 0., 0., 0., 0., 0., 0., 0., 0., 0., 0., 0.,\n",
       "       0., 0., 0., 0., 0., 0., 0., 0., 0., 0., 0., 0., 0., 0., 0., 0., 0.,\n",
       "       0., 0., 0., 0., 0., 0., 0., 0., 0., 0., 0., 0., 0., 0., 0., 0., 0.,\n",
       "       0., 0., 0., 0., 0., 0., 0., 0., 0., 0., 0.], dtype=float32)"
      ]
     },
     "execution_count": 17,
     "metadata": {},
     "output_type": "execute_result"
    }
   ],
   "source": [
    "biases"
   ]
  },
  {
   "cell_type": "code",
   "execution_count": 18,
   "id": "adba4c40",
   "metadata": {},
   "outputs": [
    {
     "data": {
      "text/plain": [
       "(300,)"
      ]
     },
     "execution_count": 18,
     "metadata": {},
     "output_type": "execute_result"
    }
   ],
   "source": [
    "biases.shape "
   ]
  },
  {
   "cell_type": "code",
   "execution_count": 19,
   "id": "c23715ea-6dcf-454b-b47d-b6ce4a61f800",
   "metadata": {},
   "outputs": [],
   "source": [
    "model.compile(loss=\"sparse_categorical_crossentropy\",optimizer=\"sgd\",metrics=[\"accuracy\"])"
   ]
  },
  {
   "cell_type": "code",
   "execution_count": 20,
   "id": "c21c4695-085e-40f6-b526-d3ee1ea76c8a",
   "metadata": {},
   "outputs": [
    {
     "name": "stdout",
     "output_type": "stream",
     "text": [
      "Epoch 1/30\n",
      "1719/1719 [==============================] - 17s 10ms/step - loss: 0.7152 - accuracy: 0.7646 - val_loss: 0.5215 - val_accuracy: 0.8162\n",
      "Epoch 2/30\n",
      "1719/1719 [==============================] - 18s 11ms/step - loss: 0.4886 - accuracy: 0.8307 - val_loss: 0.4463 - val_accuracy: 0.8492\n",
      "Epoch 3/30\n",
      "1719/1719 [==============================] - 16s 10ms/step - loss: 0.4467 - accuracy: 0.8448 - val_loss: 0.4163 - val_accuracy: 0.8602\n",
      "Epoch 4/30\n",
      "1719/1719 [==============================] - 14s 8ms/step - loss: 0.4184 - accuracy: 0.8535 - val_loss: 0.4287 - val_accuracy: 0.8442\n",
      "Epoch 5/30\n",
      "1719/1719 [==============================] - 15s 9ms/step - loss: 0.3990 - accuracy: 0.8598 - val_loss: 0.3780 - val_accuracy: 0.8670\n",
      "Epoch 6/30\n",
      "1719/1719 [==============================] - 12s 7ms/step - loss: 0.3832 - accuracy: 0.8641 - val_loss: 0.3723 - val_accuracy: 0.8702\n",
      "Epoch 7/30\n",
      "1719/1719 [==============================] - 18s 11ms/step - loss: 0.3695 - accuracy: 0.8693 - val_loss: 0.3727 - val_accuracy: 0.8680\n",
      "Epoch 8/30\n",
      "1719/1719 [==============================] - 19s 11ms/step - loss: 0.3570 - accuracy: 0.8733 - val_loss: 0.3523 - val_accuracy: 0.8756\n",
      "Epoch 9/30\n",
      "1719/1719 [==============================] - 18s 10ms/step - loss: 0.3462 - accuracy: 0.8772 - val_loss: 0.3532 - val_accuracy: 0.8730\n",
      "Epoch 10/30\n",
      "1719/1719 [==============================] - 17s 10ms/step - loss: 0.3368 - accuracy: 0.8809 - val_loss: 0.3447 - val_accuracy: 0.8780\n",
      "Epoch 11/30\n",
      "1719/1719 [==============================] - 21s 12ms/step - loss: 0.3286 - accuracy: 0.8828 - val_loss: 0.3503 - val_accuracy: 0.8770\n",
      "Epoch 12/30\n",
      "1719/1719 [==============================] - 26s 15ms/step - loss: 0.3206 - accuracy: 0.8859 - val_loss: 0.3532 - val_accuracy: 0.8730\n",
      "Epoch 13/30\n",
      "1719/1719 [==============================] - 24s 14ms/step - loss: 0.3132 - accuracy: 0.8881 - val_loss: 0.3407 - val_accuracy: 0.8778\n",
      "Epoch 14/30\n",
      "1719/1719 [==============================] - 20s 11ms/step - loss: 0.3058 - accuracy: 0.8907 - val_loss: 0.3754 - val_accuracy: 0.8610\n",
      "Epoch 15/30\n",
      "1719/1719 [==============================] - 28s 16ms/step - loss: 0.2994 - accuracy: 0.8924 - val_loss: 0.3224 - val_accuracy: 0.8828\n",
      "Epoch 16/30\n",
      "1719/1719 [==============================] - 19s 11ms/step - loss: 0.2929 - accuracy: 0.8944 - val_loss: 0.3291 - val_accuracy: 0.8768\n",
      "Epoch 17/30\n",
      "1719/1719 [==============================] - 26s 15ms/step - loss: 0.2870 - accuracy: 0.8968 - val_loss: 0.3175 - val_accuracy: 0.8864\n",
      "Epoch 18/30\n",
      "1719/1719 [==============================] - 21s 12ms/step - loss: 0.2814 - accuracy: 0.8993 - val_loss: 0.3361 - val_accuracy: 0.8772\n",
      "Epoch 19/30\n",
      "1719/1719 [==============================] - 18s 11ms/step - loss: 0.2769 - accuracy: 0.9006 - val_loss: 0.3250 - val_accuracy: 0.8796\n",
      "Epoch 20/30\n",
      "1719/1719 [==============================] - 12s 7ms/step - loss: 0.2713 - accuracy: 0.9033 - val_loss: 0.3130 - val_accuracy: 0.8858\n",
      "Epoch 21/30\n",
      "1719/1719 [==============================] - 14s 8ms/step - loss: 0.2664 - accuracy: 0.9036 - val_loss: 0.3165 - val_accuracy: 0.8814\n",
      "Epoch 22/30\n",
      "1719/1719 [==============================] - 15s 9ms/step - loss: 0.2619 - accuracy: 0.9049 - val_loss: 0.3293 - val_accuracy: 0.8764\n",
      "Epoch 23/30\n",
      "1719/1719 [==============================] - 15s 9ms/step - loss: 0.2577 - accuracy: 0.9066 - val_loss: 0.3110 - val_accuracy: 0.8894\n",
      "Epoch 24/30\n",
      "1719/1719 [==============================] - 14s 8ms/step - loss: 0.2526 - accuracy: 0.9080 - val_loss: 0.3005 - val_accuracy: 0.8912\n",
      "Epoch 25/30\n",
      "1719/1719 [==============================] - 18s 11ms/step - loss: 0.2484 - accuracy: 0.9107 - val_loss: 0.3029 - val_accuracy: 0.8858\n",
      "Epoch 26/30\n",
      "1719/1719 [==============================] - 14s 8ms/step - loss: 0.2437 - accuracy: 0.9128 - val_loss: 0.3011 - val_accuracy: 0.8916\n",
      "Epoch 27/30\n",
      "1719/1719 [==============================] - 17s 10ms/step - loss: 0.2390 - accuracy: 0.9137 - val_loss: 0.3375 - val_accuracy: 0.8804\n",
      "Epoch 28/30\n",
      "1719/1719 [==============================] - 19s 11ms/step - loss: 0.2368 - accuracy: 0.9137 - val_loss: 0.3343 - val_accuracy: 0.8736\n",
      "Epoch 29/30\n",
      "1719/1719 [==============================] - 19s 11ms/step - loss: 0.2325 - accuracy: 0.9163 - val_loss: 0.3263 - val_accuracy: 0.8770\n",
      "Epoch 30/30\n",
      "1719/1719 [==============================] - 17s 10ms/step - loss: 0.2300 - accuracy: 0.9170 - val_loss: 0.3541 - val_accuracy: 0.8698\n"
     ]
    }
   ],
   "source": [
    "history = model.fit(X_train, y_train, epochs=30,validation_data=(X_valid, y_valid))"
   ]
  },
  {
   "cell_type": "code",
   "execution_count": 21,
   "id": "d7a6fbe3-c6cd-45d0-9c43-869554d6957e",
   "metadata": {},
   "outputs": [
    {
     "data": {
      "image/png": "[encoded data removed]",
      "text/plain": [
       "<Figure size 800x500 with 1 Axes>"
      ]
     },
     "metadata": {},
     "output_type": "display_data"
    }
   ],
   "source": [
    "import pandas as pd\n",
    "import matplotlib.pyplot as plt\n",
    "pd.DataFrame(history.history).plot(figsize=(8, 5))\n",
    "plt.grid(True)\n",
    "plt.gca().set_ylim(0, 1) # set the vertical range to [0-1]\n",
    "plt.show()"
   ]
  },
  {
   "cell_type": "code",
   "execution_count": 22,
   "id": "f61a8557-b60f-439b-8967-e21334eacec2",
   "metadata": {},
   "outputs": [
    {
     "name": "stdout",
     "output_type": "stream",
     "text": [
      "313/313 [==============================] - 2s 6ms/step - loss: 73.6672 - accuracy: 0.8318\n"
     ]
    },
    {
     "data": {
      "text/plain": [
       "[73.66716003417969, 0.8317999839782715]"
      ]
     },
     "execution_count": 22,
     "metadata": {},
     "output_type": "execute_result"
    }
   ],
   "source": [
    "model.evaluate(X_test, y_test)"
   ]
  },
  {
   "cell_type": "code",
   "execution_count": 23,
   "id": "62e57e5e-3a07-4f0b-8762-dc8c5ed1c4d5",
   "metadata": {},
   "outputs": [
    {
     "name": "stdout",
     "output_type": "stream",
     "text": [
      "1/1 [==============================] - 0s 54ms/step\n"
     ]
    }
   ],
   "source": [
    "X_new = X_test[:3]\n",
    "y_proba = model.predict(X_new)"
   ]
  },
  {
   "cell_type": "code",
   "execution_count": 24,
   "id": "2efd65db",
   "metadata": {},
   "outputs": [
    {
     "data": {
      "text/plain": [
       "array([[0., 0., 0., 0., 0., 0., 0., 0., 0., 1.],\n",
       "       [0., 0., 1., 0., 0., 0., 0., 0., 0., 0.],\n",
       "       [0., 1., 0., 0., 0., 0., 0., 0., 0., 0.]], dtype=float32)"
      ]
     },
     "execution_count": 24,
     "metadata": {},
     "output_type": "execute_result"
    }
   ],
   "source": [
    "y_proba.round(2)"
   ]
  },
  {
   "cell_type": "code",
   "execution_count": 27,
   "id": "de54af1b",
   "metadata": {},
   "outputs": [],
   "source": [
    "import numpy as np\n",
    "classes_x=np.argmax(y_proba,axis=1)"
   ]
  },
  {
   "cell_type": "code",
   "execution_count": 28,
   "id": "edb55bb9",
   "metadata": {},
   "outputs": [
    {
     "data": {
      "text/plain": [
       "array([9, 2, 1])"
      ]
     },
     "execution_count": 28,
     "metadata": {},
     "output_type": "execute_result"
    }
   ],
   "source": [
    "classes_x"
   ]
  },
  {
   "cell_type": "code",
   "execution_count": 29,
   "id": "d1fde714",
   "metadata": {},
   "outputs": [
    {
     "data": {
      "text/plain": [
       "array(['Ankle boot', 'Pullover', 'Trouser'], dtype='<U11')"
      ]
     },
     "execution_count": 29,
     "metadata": {},
     "output_type": "execute_result"
    }
   ],
   "source": [
    "import numpy as np\n",
    "np.array(class_names)[classes_x]"
   ]
  },
  {
   "cell_type": "code",
   "execution_count": null,
   "id": "bca40534",
   "metadata": {},
   "outputs": [],
   "source": []
  }
 ],
 "metadata": {
  "kernelspec": {
   "display_name": "Python 3 (ipykernel)",
   "language": "python",
   "name": "python3"
  },
  "language_info": {
   "codemirror_mode": {
    "name": "ipython",
    "version": 3
   },
   "file_extension": ".py",
   "mimetype": "text/x-python",
   "name": "python",
   "nbconvert_exporter": "python",
   "pygments_lexer": "ipython3",
   "version": "3.11.5"
  }
 },
 "nbformat": 4,
 "nbformat_minor": 5
}
